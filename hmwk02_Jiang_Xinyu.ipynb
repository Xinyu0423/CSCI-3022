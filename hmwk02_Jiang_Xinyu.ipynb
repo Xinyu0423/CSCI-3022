{
 "cells": [
  {
   "cell_type": "markdown",
   "metadata": {},
   "source": [
    "<a id='top'></a>\n",
    "\n",
    "# Homework 2: Introduction to Probability and Simulation \n",
    "***\n",
    "\n",
    "**Name**: Xinyu Jiang \n",
    "\n",
    "***\n",
    "\n",
    "This assignment is due on Canvas by **5 PM on Friday February 15**. Your solutions to theoretical questions should be done in Markdown directly below the associated question.  Your solutions to computational questions should include any specified Python code and results as well as written commentary on your conclusions.  Remember that you are encouraged to discuss the problems with your classmates, but **you must write all code and solutions on your own**.\n",
    "\n",
    "**NOTES**: \n",
    "\n",
    "- Any relevant data sets should be available under the **Data** module on Canvas, as well as in the zipped folder in which you obtained this assignment. To make life easier on the graders if they need to run your code, do not change the relative path names here. Instead, move the files around on your computer.\n",
    "- If you're not familiar with typesetting math directly into Markdown then by all means, do your work on paper first and then typeset it later.  Remember that there is a [reference guide](https://math.meta.stackexchange.com/questions/5020/mathjax-basic-tutorial-and-quick-reference) linked on Canvas on writing math in Markdown. **All** of your written commentary, justifications and mathematical work should be in Markdown.\n",
    "- Because you can technically evaluate notebook cells in a non-linear order, it's a good idea to do Kernel $\\rightarrow$ Restart & Run All as a check before submitting your solutions.  That way if we need to run your code you will know that it will work as expected. \n",
    "- It is **bad form** to make your reader interpret numerical output from your code.  If a question asks you to compute some value from the data you should show your code output **AND** write a summary of the results in Markdown directly below your code. \n",
    "- This probably goes without saying, but... For any question that asks you to calculate something, you **must show all work and justify your answers to receive credit**. Sparse or nonexistent work will receive sparse or nonexistent credit. \n",
    "\n",
    "---\n",
    "**Shortcuts:**  [Problem 1](#p1) | [Problem 2](#p2) | [Problem 3](#p3) | [Problem 4](#p4)\n",
    "\n",
    "---"
   ]
  },
  {
   "cell_type": "code",
   "execution_count": 1,
   "metadata": {
    "scrolled": true
   },
   "outputs": [],
   "source": [
    "import pandas as pd\n",
    "import numpy as np\n",
    "import matplotlib.pylab as plt\n",
    "%matplotlib inline"
   ]
  },
  {
   "cell_type": "markdown",
   "metadata": {},
   "source": [
    "***\n",
    "<a/ id='p1'></a>\n",
    "[Back to top](#top)\n",
    "\n",
    "### [30 points] Problem 1\n",
    "\n",
    "Courtney, Nick and Jarrod are playing special version of <a href=\"https://en.wikipedia.org/wiki/Monopoly_(game)\">Monopoly</a>. Because the three of them are all scoundrels, they are all currently in Jail. In Monopoly, players roll two 6-sided dice on their turn. In their version of Monopoly, however, to get out of Jail, a player must roll *doubles* (the two dice have the same outcome) and must keep re-rolling the dice until they get doubles during their first turn in Jail. As soon as a player rolls doubles, they are let out of Jail and their turn ends. Let $D$ represent the event that a player rolls doubles.\n",
    "\n",
    "Work the following problems by hand unless otherwise stated (but don't be afraid to simulate to check your result!). It is okay to use Python as a calculator, of course."
   ]
  },
  {
   "cell_type": "markdown",
   "metadata": {},
   "source": [
    "**Part A**: What is the probability that a player will roll doubles on their first, second, or third roll while in jail? Note that if a player rolls doubles on their third roll, for example, then they must *not* have rolled doubles on either of the first two rolls. Keep 4 decimal places in your answer."
   ]
  },
  {
   "cell_type": "markdown",
   "metadata": {},
   "source": [
    "First turn rolling double:  \n",
    "$P_{first}=(\\frac{1}{6}*\\frac{1}{6})*6=\\frac{1}{6}=0.1667$  \n",
    "Second turn rolling double:  \n",
    "First turn did not rolling double: $1-\\frac{1}{6}=\\frac{5}{6}$  \n",
    "$P_{second}=\\frac{1}{6}*\\frac{5}{6}=\\frac{5}{36}=0.1389$  \n",
    "Third turn rolling double:  \n",
    "Second turn did not rolling double: $1-\\frac{5}{36}-\\frac{1}{6}=\\frac{25}{36}$  \n",
    "$P_{third}=\\frac{1}{6}*\\frac{25}{36}=\\frac{25}{216}=0.1157$  \n",
    "$P_{sum}=P_{first}+P_{second}+P_{third}=\\frac{91}{216}=0.4213$"
   ]
  },
  {
   "cell_type": "markdown",
   "metadata": {},
   "source": [
    "**Part B:** *The plot thickens!* Darth Ketelsen is well-known to meddle in Jedi affairs. Did I mention that Courtney, Nick and Jarrod are all in Computer Science Jedi training? That's not important for this problem, but it is interesting. \n",
    "\n",
    "Turns out, Darth Ketelsen will occasionally secretly swap out the dice in the Jedi's Monopoly game for a pair of dice that have been weighted. Each of Darth Ketelsen's two dice is weighted such that a 6 is rolled with probability $1/2$, and all the other numbers are equally likely to be rolled. If Darth Ketelsen switches the dice for her weighted ones, she does so before the game begins, and the entire game of Monopoly is played with the same pair of dice, whether they are fair or weighted.\n",
    "\n",
    "What is the probability of rolling doubles on the first, second or third roll while in jail, using Darth Ketelsen's weighted dice? Again, keep 4 decimal places in your answer."
   ]
  },
  {
   "cell_type": "markdown",
   "metadata": {},
   "source": [
    "First turn rolling double:  \n",
    "$P_{first}=5*(\\frac{1}{10}*\\frac{1}{10})+\\frac{1}{2}*\\frac{1}{2}=\\frac{3}{10}=0.3$  \n",
    "Second turn rolling double:  \n",
    "First turn did not rolling double: $1-\\frac{3}{10}=\\frac{7}{10}$  \n",
    "$P_{second}=\\frac{3}{10}*\\frac{7}{10}=\\frac{21}{100}=0.21$  \n",
    "Third turn rolling double:  \n",
    "Second turn did not rolling double: $1-\\frac{21}{100}-\\frac{3}{10}=\\frac{49}{100}$  \n",
    "$P_{third}=\\frac{3}{10}*\\frac{49}{100}=\\frac{147}{1000}=0.147$  \n",
    "$P_{sum}=P_{first}+P_{second}+P_{third}=0.657$"
   ]
  },
  {
   "cell_type": "markdown",
   "metadata": {},
   "source": [
    "**Part C:** Suppose that before any given game of Monopoly, Darth Ketelsen replaces the normal six-sided dice with her loaded dice with probability $0.25$. Then the players proceed to play their entire game using either the loaded dice, or the fair dice.  It is unknown to the player who is rolling, however, whether they are using the unfair or fair dice. What is the probability that a player gets doubles within three rolls? Keep 4 decimal places in your answer."
   ]
  },
  {
   "cell_type": "markdown",
   "metadata": {},
   "source": [
    "Fair die rate:  \n",
    "$P(AB)=P(A|B)P(B)=0.4213*0.75=0.3160$    \n",
    "Unfair die rate:  \n",
    "$P(AC)=P(A|C)P(C)=0.657*0.25=0.1643$  \n",
    "Total rate:  \n",
    "$P(A)=P(AB)+P(AC)=0.4802$"
   ]
  },
  {
   "cell_type": "markdown",
   "metadata": {},
   "source": [
    "**Part D:** While it is unknown whether they are playing with Darth Ketelsen's unfair dice, or with fair dice, Courtney, Jarrod and Nick are armed and dangerous... with *probability theory*, that is! Well, probability theory and lightsabers.\n",
    "\n",
    "Suppose that starting from jail, all three of Courtney, Jarrod and Nick have taken one turn, and all three of them have managed to roll doubles within 3 rolls. If you were not given this information, you would assume that there is a probability of $0.25$ that they are playing with Darth Ketelsen's unfair dice. But now, given this information, what is the probability that they are playing with the unfair dice?"
   ]
  },
  {
   "cell_type": "markdown",
   "metadata": {},
   "source": [
    "Base on Bayes' theory  \n",
    "$P(U|D_3)=\\frac{P(D_3|U)P(U)}{P(D_3|U)P(U)+P(D_3|F)D(F)}$$=\\frac{0.657^3*0.25}{0.657^3*0.25+0.4213^3*(1-0.25))}=0.5583$"
   ]
  },
  {
   "cell_type": "markdown",
   "metadata": {},
   "source": [
    "**Part E**:  First, work out **by hand** a formula for the probability in general that Courtney, Jarrod and Nick are playing with Darth Ketelsen's unfair dice, given that $n$ players in a row have gotten out of jail by rolling doubles within 3 rounds. That is, you want to find a formula for $P(U \\mid D_n)$ in terms of $n$.\n",
    "\n",
    "Then, define a function `prob_unfair` to calculate $P(U \\mid D_n)$.  This function should only take one positive integer argument, $n$.\n",
    "\n",
    "Verify that your function is performing as expected by checking your answer to **Part D** by plugging in $n=3$."
   ]
  },
  {
   "cell_type": "markdown",
   "metadata": {},
   "source": [
    "Base on Bayes' theory  \n",
    "$P(U|D_n)=\\frac{P(D_n|U)P(U)}{P(D_n|U)P(U)+P(D_n|F)D(F)}$"
   ]
  },
  {
   "cell_type": "code",
   "execution_count": 2,
   "metadata": {},
   "outputs": [
    {
     "name": "stdout",
     "output_type": "stream",
     "text": [
      "The probability of using unfair dice is 0.9210113971568146\n"
     ]
    }
   ],
   "source": [
    "#Helper function to cacluate the probability of fair dice\n",
    "def fair_die(n, result,sum):\n",
    "    if(n<0):\n",
    "        return sum\n",
    "    else:\n",
    "        sum+=result\n",
    "        return fair_die(n-1, (1/6)*(1-sum),sum)\n",
    "\n",
    "#print(fair_die(3,0,0))\n",
    "\n",
    "#Helper function to cacluate the probability of unfair dice\n",
    "def unfair_die(n, result, sum):\n",
    "    if(n<0):\n",
    "        return sum\n",
    "    else:\n",
    "        sum+=result\n",
    "        return unfair_die(n-1, (3/10)*(1-sum),sum) \n",
    "#print(unfair_die(3,0,0))\n",
    "\n",
    "def prob_unfair(n):\n",
    "    result=((unfair_die(3,0,0)**n)*0.25)/((unfair_die(3,0,0)**n)*0.25+(fair_die(3,0,0)**n)*0.75)\n",
    "    return result\n",
    "print(\"The probability of using unfair dice is\",prob_unfair(8))\n"
   ]
  },
  {
   "cell_type": "markdown",
   "metadata": {},
   "source": [
    "**Part F:**  What is the smallest value of $n$ players in a row rolling doubles within 3 rounds that would lead to a higher-than-90% probability that the dice are unfair?  Plugging larger and larger values for $n$ into your `prob_unfair` function is a very reasonable way to check this."
   ]
  },
  {
   "cell_type": "markdown",
   "metadata": {},
   "source": [
    "You need at leasting 8 player to lead to a higher-than-90% probability that the dice are unfair."
   ]
  },
  {
   "cell_type": "code",
   "execution_count": 3,
   "metadata": {},
   "outputs": [
    {
     "name": "stdout",
     "output_type": "stream",
     "text": [
      "The probability of geting higher than 90% needs 8 player\n"
     ]
    }
   ],
   "source": [
    "#Helper function to cacluate the probability of fair dice\n",
    "def fair_die(n, result,sum):\n",
    "    if(n<0):\n",
    "        return sum\n",
    "    else:\n",
    "        sum+=result\n",
    "        return fair_die(n-1, (1/6)*(1-sum),sum)\n",
    "\n",
    "#print(fair_die(3,0,0))\n",
    "\n",
    "#Helper function to cacluate the probability of unfair dice\n",
    "def unfair_die(n, result, sum):\n",
    "    if(n<0):\n",
    "        return sum\n",
    "    else:\n",
    "        sum+=result\n",
    "        return unfair_die(n-1, (3/10)*(1-sum),sum) \n",
    "#print(unfair_die(3,0,0))\n",
    "\n",
    "def prob_unfair(n):\n",
    "    result=((unfair_die(3,0,0)**n)*0.25)/((unfair_die(3,0,0)**n)*0.25+(fair_die(3,0,0)**n)*0.75)\n",
    "    return result\n",
    "\n",
    "def minPlayer():\n",
    "    player=1\n",
    "    while(1):\n",
    "        if prob_unfair(player)>0.9:\n",
    "            break\n",
    "        player=player+1\n",
    "    return player\n",
    "\n",
    "player=minPlayer()\n",
    "print(\"The probability of geting higher than 90% needs\",player,\"player\")\n"
   ]
  },
  {
   "cell_type": "markdown",
   "metadata": {},
   "source": [
    "**Part G:** Jarrod, Courtney and Nick are becoming suspicious that the dice they are playing with are unfair. They decide to keep track of how frequently each player rolls doubles. They will roll the dice `n_trials` number of times, and make a plot of their running estimate of the probability of rolling doubles, from the moment they start rolling until they finally finish all `n_trials` rolls. So, the x-axis of their plot will be the number of rolls, and the y-axis will be the running estimate of the probability of rolling doubles with the given dice, with the number of trials given by the x-axis.\n",
    "\n",
    "Write code to run 4 independent simulations of 1,000 trials each to estimate the probability of rolling doubles using the fair dice, and another 4 independent simulations to estimate the probability of rolling doubles using Darth Ketelsen's loaded dice, and plot their running estimate curves on the same set of axes. \n",
    "\n",
    "In order to more easily distinguish between the loaded dice estimates and the fair dice estimates, plot the loaded dice estimates as lines using the color `tomato` and plot the fair dice estimates using the color `seagreen`. Be sure to label your axes and include a legend.\n",
    "\n",
    "Finally, comment on how many flips appear to be necessary before Jarrod, Courtney and Nick might become convinced of what type of dice they are playing with (fair or unfair). Justify your answer fully using your figure."
   ]
  },
  {
   "cell_type": "code",
   "execution_count": 4,
   "metadata": {},
   "outputs": [
    {
     "data": {
      "image/png": "[encoded data removed]",
      "text/plain": [
       "<Figure size 432x288 with 1 Axes>"
      ]
     },
     "metadata": {
      "needs_background": "light"
     },
     "output_type": "display_data"
    }
   ],
   "source": [
    "def unfair():\n",
    "    fairDice=[1,2,3,4,5,6]\n",
    "    unFairDice=[1,2,3,4,5,6,6,6,6]\n",
    "    firstFair=[]\n",
    "    secondFair=[]\n",
    "    thirdFair=[]\n",
    "    fourthFair=[]\n",
    "    firstUnfair=[]\n",
    "    secondUnfair=[]\n",
    "    thirdUnfair=[]\n",
    "    fourthUnfair=[]\n",
    "    \n",
    "    fairResult1=[]\n",
    "    fairResult2=[]\n",
    "    fairResult3=[]\n",
    "    fairResult4=[]\n",
    "    unfairResult1=[]\n",
    "    unfairResult2=[]\n",
    "    unfairResult3=[]\n",
    "    unfairResult4=[]\n",
    "    #Because it compare it with the next one, so it needs 2000 rolls to\n",
    "    #get 1000 trials\n",
    "    for i in range(2000):\n",
    "        temp=np.random.choice(fairDice)\n",
    "        firstFair.append(temp)\n",
    "        temp=np.random.choice(fairDice)\n",
    "        secondFair.append(temp)\n",
    "        temp=np.random.choice(fairDice)\n",
    "        thirdFair.append(temp)\n",
    "        temp=np.random.choice(fairDice)\n",
    "        fourthFair.append(temp)\n",
    "        temp=np.random.choice(unFairDice)\n",
    "        firstUnfair.append(temp)\n",
    "        temp=np.random.choice(unFairDice)\n",
    "        secondUnfair.append(temp)\n",
    "        temp=np.random.choice(unFairDice)\n",
    "        thirdUnfair.append(temp)\n",
    "        temp=np.random.choice(unFairDice)\n",
    "        fourthUnfair.append(temp)\n",
    "        \n",
    "    \n",
    "    temp=0\n",
    "    count=0\n",
    "    #because the for loop increase the i value by 2, so it is 1000 trials\n",
    "    for i in range(0,2000,2):\n",
    "        if(firstFair[i]==firstFair[i+1]):\n",
    "            count=count+1\n",
    "        temp=temp+1\n",
    "        fairResult1.append(count/(len(fairResult1)+1))\n",
    "    temp=0\n",
    "    count=0\n",
    "    for i in range(0,2000,2):\n",
    "        if(secondFair[i]==secondFair[i+1]):\n",
    "            count=count+1\n",
    "        temp=temp+1\n",
    "        fairResult2.append(count/(len(fairResult2)+1))\n",
    "    temp=0\n",
    "    count=0\n",
    "    for i in range(0,2000,2):\n",
    "        if(thirdFair[i]==thirdFair[i+1]):\n",
    "            count=count+1\n",
    "        temp=temp+1\n",
    "        fairResult3.append(count/(len(fairResult3)+1))\n",
    "    temp=0\n",
    "    count=0\n",
    "    for i in range(0,2000,2):\n",
    "        if(fourthFair[i]==fourthFair[i+1]):\n",
    "            count=count+1\n",
    "        temp=temp+1\n",
    "        fairResult4.append(count/(len(fairResult4)+1))\n",
    "    temp=0\n",
    "    count=0\n",
    "    for i in range(0,2000,2):\n",
    "        if(firstUnfair[i]==firstUnfair[i+1]):\n",
    "            count=count+1\n",
    "        temp=temp+1\n",
    "        unfairResult1.append(count/(len(unfairResult1)+1))\n",
    "    temp=0\n",
    "    count=0\n",
    "    for i in range(0,2000,2):\n",
    "        if(secondUnfair[i]==secondUnfair[i+1]):\n",
    "            count=count+1\n",
    "        temp=temp+1\n",
    "        unfairResult2.append(count/(len(unfairResult2)+1))\n",
    "    temp=0\n",
    "    count=0\n",
    "    for i in range(0,2000,2):\n",
    "        if(thirdUnfair[i]==thirdUnfair[i+1]):\n",
    "            count=count+1\n",
    "        temp=temp+1\n",
    "        unfairResult3.append(count/(len(unfairResult3)+1))\n",
    "    temp=0\n",
    "    count=0\n",
    "    for i in range(0,2000,2):\n",
    "        if(fourthUnfair[i]==fourthUnfair[i+1]):\n",
    "            count=count+1\n",
    "        temp=temp+1\n",
    "        unfairResult4.append(count/(len(unfairResult4)+1))\n",
    "\n",
    "    plt.xlim(0,1000)\n",
    "    plt.ylim(0,1)\n",
    "    plt.xlabel(\"games\")\n",
    "    plt.ylabel(\"probability get double\")\n",
    "    plt.plot(fairResult1,label=\"fair dice\",color=\"tomato\")\n",
    "    plt.plot(fairResult2,color=\"tomato\")\n",
    "    plt.plot(fairResult3,color=\"tomato\")\n",
    "    plt.plot(fairResult4,color=\"tomato\")\n",
    "    plt.plot(unfairResult1,label=\"unfair dice\",color=\"seagreen\")\n",
    "    plt.plot(unfairResult2,color=\"seagreen\")\n",
    "    plt.plot(unfairResult3,color=\"seagreen\")\n",
    "    plt.plot(unfairResult4,color=\"seagreen\")\n",
    "    plt.legend()\n",
    "unfair()  \n"
   ]
  },
  {
   "cell_type": "markdown",
   "metadata": {},
   "source": [
    "Base on the graph above, after 100 trials, the probability using unfair dice geting double is sigificant higher than using fair dice. Therefore, if player getting higher probability rolling double, we could play 100 games to detarmind if it is an unfair dice."
   ]
  },
  {
   "cell_type": "markdown",
   "metadata": {},
   "source": [
    "***\n",
    "<a/ id='p2'></a>\n",
    "[Back to top](#top)\n",
    "\n",
    "### [25 points] Problem 2\n",
    "\n",
    "Sonic and Amy are two average hedgehogs who have to run around campus every day for classes and hobbies. When they leave the Engineering Center (E) from their Data Science class, they like to go to 5 other places on campus: the Gym ($G~$) to exercise, the Library ($L~$) to learn, the Hill ($H~$) to grab a sandwich, Weathertech Cafe ($W~$) for a pizza, and the mountains ($M~$) to frolic with their marmot friends.\n",
    "\n",
    "Here are some rules governing their movements throughout the fair city of Boulder:\n",
    "* When Sonic and/or Amy is leaving one location, they randomly select one of the available adjacent locations, with equal probability.\n",
    "* This includes back-tracking, but note that to return to their original location would require 2 moves.\n",
    "* Assume that all moves require the same amount of time.\n",
    "* They are also not allowed to stay put; they always must move to some *other* adjacent location.\n",
    "* Sonic and Amy also act **independently** of one another. That is, the probability that Sonic goes from one place to another is independent of Amy's movements.\n",
    "\n",
    "<img src=\"http://www.cs.colorado.edu/~tonyewong/home/resources/sonic_and_amy_statespace.png\" style=\"width: 300px;\"/>"
   ]
  },
  {
   "cell_type": "markdown",
   "metadata": {},
   "source": [
    "**Part A**: Amy is currently at the Gym and she has worked up quite an appetite! She wants to go to either the Hill or the Weathertech Cafe, and is soooooooo hungry that she must land on exactly the $H$ or $W$ node in exactly one or two moves. Compute (by hand) the probability that Amy ends up at the the Hill ($H$) or the Weathertech Cafe ($W$) in exactly one or two moves, given that she is starting from the Gym ($G$). "
   ]
  },
  {
   "cell_type": "markdown",
   "metadata": {},
   "source": [
    "Probability that G would go to H in one step: $\\frac{1}{3}$  \n",
    "Probability that G would go to L and go to H: $\\frac{1}{4}*\\frac{1}{3}$  \n",
    "Probability that G would go to L and go to W: $\\frac{1}{4}*\\frac{1}{3}$  \n",
    "Probability that G would go to E and go to W: $\\frac{1}{3}*\\frac{1}{3}$  \n",
    "Probability sum=$\\frac{11}{18}$"
   ]
  },
  {
   "cell_type": "markdown",
   "metadata": {},
   "source": [
    "**Part B**: Suppose that Amy is at the Gym and Sonic is working late at the Engineering Center. Later, they both leave and wander around, randomly and independently of one another, as described above.\n",
    "1. What is the probability that they run into each other in the same location on the first location visited?  \n",
    "2. Given their two initial locations, what is the probability that they meet at the Hill after 2 moves?"
   ]
  },
  {
   "cell_type": "markdown",
   "metadata": {},
   "source": [
    "1. Base on the graph, the only location is L  \n",
    "Probability that Amy went to L is $\\frac{1}{3}$  \n",
    "Probability that Sonic went to L is $\\frac{1}{3}$  \n",
    "Probability they run into the same location is $\\frac{1}{3}*\\frac{1}{3}=\\frac{1}{9}$  \n",
    "2. Base on the graph, the only location is H  \n",
    "Amy:  \n",
    "Probability G-L-H=$\\frac{1}{3}*\\frac{1}{4}=\\frac{1}{12}$  \n",
    "Sonic:  \n",
    "Probability E-G-H=$\\frac{1}{3}*\\frac{1}{3}=\\frac{1}{9}$  \n",
    "Probability E-L-H=$\\frac{1}{3}*\\frac{1}{4}=\\frac{1}{12}$  \n",
    "Probability they run into the same location is $(\\frac{1}{9}*\\frac{1}{12})*\\frac{1}{12}$=$\\frac{7}{432}$"
   ]
  },
  {
   "cell_type": "markdown",
   "metadata": {},
   "source": [
    "**Part C**: Write a simulation to confirm that your by-hand calculations in **Parts A** and **B** are correct. Make sure you run your simulations for enough trials that your estimates are reasonably close to your analytic results. In addition to showing your code, you should explain in Markdown (not just in code comments) what your code is doing and why it is a reasonable approximation of the probabilities in **Parts A** and **B**."
   ]
  },
  {
   "cell_type": "markdown",
   "metadata": {},
   "source": [
    "First, start from initial location, initialize a temp variable and set the temp variable equal to initial location. Then, use for loop to loop through the step(step is how many times it goes to different location) randomly choose one location that adajecent to the temp location and reset the temp location, then return the final location. In the function call, generate 10000 times, check and count how many times in 10000 runs produce the final location in both 1 and 2 steps, then use count divide by 10000 and add 1 and 2 steps together to get the final result. "
   ]
  },
  {
   "cell_type": "code",
   "execution_count": 13,
   "metadata": {},
   "outputs": [
    {
     "name": "stdout",
     "output_type": "stream",
     "text": [
      "The simluation for part A is  0.6092\n",
      "The simluation for second question 2 part B is  0.01602624\n"
     ]
    }
   ],
   "source": [
    "map={\n",
    "    'G':['H','L','E'],\n",
    "    'M':[\"H\"],\n",
    "    'L':['G','H','E','W'],\n",
    "    'H':['G','M','L'],\n",
    "    'E':['G','L','W'],\n",
    "    'W':['L','E']\n",
    "}\n",
    "def simC(init,step):\n",
    "    count=0\n",
    "    temp=init\n",
    "    for i in range(step):\n",
    "        temp=np.random.choice(map[temp])\n",
    "    return temp\n",
    "    \n",
    "        \n",
    "count1=0\n",
    "count2=0\n",
    "count3=0\n",
    "count4=0\n",
    "for i in range(10000):\n",
    "    if(simC('G',1)=='H'):\n",
    "        count1=count1+1\n",
    "for i in range(10000):\n",
    "    if(simC('G',2)=='H'):\n",
    "        count2=count2+1\n",
    "for i in range(10000):\n",
    "    if(simC('G',1)=='W'):\n",
    "        count3=count3+1\n",
    "for i in range(10000):\n",
    "    if(simC('G',2)=='W'):\n",
    "        count4=count4+1\n",
    "prob1=count1/10000+count2/10000\n",
    "prob2=count3/10000+count4/10000\n",
    "print(\"The simluation for part A is \",prob1+prob2)\n",
    "count5=0\n",
    "count6=0\n",
    "count7=0\n",
    "count8=0\n",
    "for i in range(10000):\n",
    "    if(simC('G',2)=='H'):\n",
    "        count6=count6+1\n",
    "for i in range(10000):\n",
    "    if(simC('E',1)=='H'):\n",
    "        count7=count7+1\n",
    "for i in range(10000):\n",
    "    if(simC('E',2)=='H'):\n",
    "        count8=count8+1\n",
    "prob3=count6/10000\n",
    "prob4=count7/10000+count8/10000\n",
    "print(\"The simluation for second question 2 part B is \",prob3*prob4)"
   ]
  },
  {
   "cell_type": "markdown",
   "metadata": {},
   "source": [
    "**Part D:** Use your simulation from Part C, possibly with some modification, to estimate the **long-run proportion of time that the hedgehogs spend in the mountains**. You can estimate this using the following technique:\n",
    "* walk a hedgehog around the graph for a very large number of steps (at least 100,000 steps), \n",
    "* keep track of which location the hedgehog is at, at each step, then\n",
    "* the proportion of their time spent at any given location may be estimated as the number of times they are at the Mountains node ($M$), divided by the total number of steps.\n",
    "\n",
    "You may be left wondering: Where should I start my hedgehog? That is very weird question, but totally valid here! It turns out that **it should not matter** where you start the hedgehog. Verify this by making your estimate from three different starting locations. Be sure to include some commentary in Markdown to state your answer for the long-run proportion of time that the hedgehogs spend in the mountains, and comment on whether it appears to depend on the initial location."
   ]
  },
  {
   "cell_type": "code",
   "execution_count": 14,
   "metadata": {},
   "outputs": [
    {
     "name": "stdout",
     "output_type": "stream",
     "text": [
      "The probability start at G end at M is 0.0647\n",
      "The probability start at M end at M is 0.0653\n",
      "The probability start at L end at M is 0.0611\n"
     ]
    }
   ],
   "source": [
    "map={\n",
    "    'G':['H','L','E'],\n",
    "    'M':[\"H\"],\n",
    "    'L':['G','H','E','W'],\n",
    "    'H':['G','M','L'],\n",
    "    'E':['G','L','W'],\n",
    "    'W':['L','E']\n",
    "}\n",
    "count1=0\n",
    "count2=0\n",
    "count3=0\n",
    "temp1='G'\n",
    "temp2='M'\n",
    "temp3='L'\n",
    "for i in range(10000):\n",
    "    temp1=np.random.choice(map[temp1])\n",
    "    temp2=np.random.choice(map[temp2])\n",
    "    temp3=np.random.choice(map[temp3])\n",
    "    if(temp1=='M'):\n",
    "        #print(123)\n",
    "        count1=count1+1\n",
    "    if(temp2=='M'):\n",
    "        count2=count2+1\n",
    "    if(temp3=='M'):\n",
    "        count3=count3+1\n",
    "print(\"The probability start at G end at M is\", count1/10000)\n",
    "print(\"The probability start at M end at M is\", count2/10000)\n",
    "print(\"The probability start at L end at M is\", count3/10000)"
   ]
  },
  {
   "cell_type": "markdown",
   "metadata": {},
   "source": [
    "Base on the calculation above, the probabilty is really close to each other. Therefore, the start point does not matter to the final result because there are too many trials, and the start loction could not effect the final reuslt"
   ]
  },
  {
   "cell_type": "markdown",
   "metadata": {},
   "source": [
    "***\n",
    "<a/ id='p3'></a>\n",
    "[Back to top](#top)\n",
    "\n",
    "### [20 points] Problem 3  \n",
    "\n",
    "After years of Computer Science Jedi training, Tony has attained the rank of Master is training two aspiring young apprentices: Nick and Courtney. For their training and Tony’s amusement, Nick and Courtney are having a lightsaber duel with the following rules:\n",
    "* The duel is composed of a number of rounds.\n",
    "* Each round consists of Nick trying to strike Courtney with his lightsaber, then Courtney trying to strike Nick with her lightsaber.\n",
    "* If Nick strikes Courtney, then he is awarded a point. Similarly, if Courtney strikes Nick, then she is also awarded a point.\n",
    "* If a round ends in a tie (i.e., either both strike each other or both miss), then Nick and Courtney proceed to another round. If a round ends with one apprentice scoring a point but the other does not, then the apprentice who scored a point wins the duel.\n",
    "\n",
    "Let $C$ be the event that \"Courtney wins the duel\", $E$ be the event that \"the duel ends after the first round of lightsaber strikes\", and $R$ be the event that \"the duel continues after the first round of lightsaber strikes\".  Suppose that the result of any given lightsaber strike is independent of the other strikes, Courtney successfully lands her lightsaber strikes with probability $p$, and Nick lands his strikes with probability $q$.\n",
    "\n",
    "**Part A**: The duel will continue until Courtney or Nick wins.  What is the sample space $\\Omega$ for this \"experiment\"?  Represent the outcomes of individual lightsaber strikes by $H$ for a hit and $M$ for a miss, and assume that Courtney has the first strike in each round. At the very least, your answer should include all of the events in $\\Omega$ that include one or two rounds, followed by \"...\" to show that you have established a pattern."
   ]
  },
  {
   "cell_type": "markdown",
   "metadata": {},
   "source": [
    "Sample Space $\\Omega$:  \n",
    "Suppose it always goes Courtney then Nick  \n",
    "First round:  \n",
    "{$HM, MH$}  \n",
    "Second round:  \n",
    "{$HHHM,HHMH,MMHM,MMMH$}  \n",
    "Combine those two:  \n",
    "{$HM, MH, HHHM,HHMH,MMHM,MMMH,...$}"
   ]
  },
  {
   "cell_type": "markdown",
   "metadata": {},
   "source": [
    "**Part B**: Determine $P(C \\mid E)$ in terms of $p$ and $q$."
   ]
  },
  {
   "cell_type": "markdown",
   "metadata": {},
   "source": [
    "$P(C|E)=P(C \\cap E) / P(E)=\\frac{p(1-q)}{p(1-q)+(1-p)q}$"
   ]
  },
  {
   "cell_type": "markdown",
   "metadata": {},
   "source": [
    "**Part C**: Explain in words why events $C$ and $R$ should be independent. "
   ]
  },
  {
   "cell_type": "markdown",
   "metadata": {},
   "source": [
    "C and R should be independent because C represents \"Courtney wins the duel\", and R represents \"the duel continues after the first round of lightsaber strikes\". Base on the description above the duel will end when either Nick or Courtney hit, but R does does not effect C(because if R is true which means Nick and Courtney and Nick both miss). Therefore, there is no direct relation ship with two events, which fulfill $P(CR)=P(C)*P(R)$"
   ]
  },
  {
   "cell_type": "markdown",
   "metadata": {},
   "source": [
    "**Part D**: Use the Law of Total Probability to show that $P(C) = p(1-q) + (2pq - p - q +1) P(C \\mid R)$. "
   ]
  },
  {
   "cell_type": "markdown",
   "metadata": {},
   "source": [
    "$P(C)=P(C|E)P(E)+P(C|R)P(R)$  \n",
    "Base on prove above: $P(C|E)=\\frac{p(1-q)}{p(1-q)+(1-p)q}$  \n",
    "Base on the decription above, the probability the duel end  $P(E)=p(1-q)+(1-p)q$  \n",
    "Base on the decription above, the probability they tie is $P(R)=(1-p)(1-q)+pq$  \n",
    "Then $P(C)=\\frac{p(1-q)}{p(1-q)+(1-p)q}*p(1-q)+(1-p)q+(1-p)(1-q)+pq+P(C|R)$  \n",
    "$P(C)=p(1-q)+(1-p)(1-q)pq*P(C|R)$  \n",
    "$P(C) = p(1-q) + (2pq - p - q +1) P(C \\mid R)$"
   ]
  },
  {
   "cell_type": "markdown",
   "metadata": {},
   "source": [
    "**Part E**: Use **Part D** and the fact from **Part C** that events $C$ and $R$ are independent to determine $P(C)$ in terms of $p$ and $q$. "
   ]
  },
  {
   "cell_type": "markdown",
   "metadata": {},
   "source": [
    "$P(C) = p(1-q) + (2pq - p - q +1) P(C \\mid R)$  \n",
    "Because $P(C \\mid R)$ are independent $P(C \\mid R)=P(C)$  \n",
    "$P(C) = p(1-q) + (2pq - p - q +1) P(C)$  \n",
    "$P(C)-(2pq - p - q +1) P(C)=p(1-q)$  \n",
    "$P(C)(1-2pq+p+q-1)=p(1-q)$  \n",
    "$P(C)=\\frac{p(1-q)}{-2pq+p-q}$  \n",
    "$P(C)=\\frac{p(1-q)}{p(1-q)+(1-p)q}$  \n",
    "Therefore, events C and R are independent"
   ]
  },
  {
   "cell_type": "markdown",
   "metadata": {},
   "source": [
    "**Part F**: Explain why the answers to **Part B** and **Part E** are the same. "
   ]
  },
  {
   "cell_type": "markdown",
   "metadata": {},
   "source": [
    "For part B, event C and E are independent, and for part E, event C and R are independent, therefore, they both equal to $P(C)$, so they are the same"
   ]
  },
  {
   "cell_type": "markdown",
   "metadata": {},
   "source": [
    "**Part G**: Explain the significance of the solution technique for $P(C)$ outlined in **Part D** and **Part E**.  Why did we go this route instead of computing $P(C)$ directly?  Can we always use such techniques?  What assumption did we need to make in order to use this solution approach?"
   ]
  },
  {
   "cell_type": "markdown",
   "metadata": {},
   "source": [
    "Because event C and R are independent, therefore, after we get $P(C|R)$, we could get C, we can only use such technique when event C E and R are independent to each other.\n"
   ]
  },
  {
   "cell_type": "markdown",
   "metadata": {},
   "source": [
    "***\n",
    "<a/ id='p4'></a>\n",
    "[Back to top](#top)\n",
    "\n",
    "### [25 points] Problem 4\n",
    "\n",
    "In this problem you will write some code to simulate the game of **Miniopoly** (a very rough approximation of <a href=\"https://en.wikipedia.org/wiki/Monopoly_(game)\">Monopoly</a>).  The game consists of a round board with 40 \"squares\" numbered from $0$ to $39$, where squares $0$ and would-be $40$ are [coincident](https://en.wikipedia.org/wiki/Coincident) and called **GO**.  A player starts on **GO** with \\$200 in their pocket.  On each turn the player rolls a pair of dice and then moves a number of spaces equal to the sum of the dice.  Landing on different squares have different results: \n",
    "\n",
    "- Squares 2, 7, 17, 22, 33, and 36 cause you to draw a card.  The cards tell you to collect \\$50 or \\$100, or pay the bank \\$25 or \\$100.  There is always an equal probability associated with each of these possible cards.\n",
    "\n",
    "<p> </p>\n",
    "\n",
    "- Square 20 is **Free Parking**. If a player lands on Square 20, then they are awarded a Free Parking Bonus of \\$500. This should be a generic input variable to your `miniopoly_turn` function called `bonus`, so you can modify it later. But, the default value for `bonus` should be \\$500.\n",
    "\n",
    "<p> </p>\n",
    "\n",
    "- Square 30 is **Go To Jail**. (So if a player has landed on Square 30, then you know they have been to jail.)\n",
    "\n",
    "<p> </p>\n",
    "\n",
    "- If a player starts a turn from **Jail** she rolls two dice: \n",
    "\n",
    "    - If the player rolls doubles (i.e. the dice have equal values), then the player moves from Square 10 a number of squares equal to the sum of the dice\n",
    "    \n",
    "    - If the player rolls anything other than doubles, then she pays the bank \\$20 and remains in **Jail** \n",
    "    \n",
    "<p> </p>\n",
    "\n",
    "- If the player passes or lands on **GO** (square 0) she collects \\$200. \n",
    "\n",
    "<p> </p>\n",
    "\n",
    "- If the player lands on any other square not mentioned above, she pays the bank an amount equal to the square's number (e.g. if she lands on Square 29 she pays the bank \\$29). \n",
    "\n",
    "<p> </p>\n",
    "\n",
    "If at any point the player has \\$0 or less they go bankrupt and the game ends.\n",
    "\n",
    "See [here](http://www.cs.colorado.edu/~tonyewong/home/resources/miniopoly_example.png) for an example of the Miniopoly board layout.\n",
    "\n",
    "<br>\n",
    "\n",
    "**Part A**: Complete the function `miniopoly_turn` below. The function should simulate one turn of Miniopoly.  It should take as arguments the player's current location on the board as well as the player's current cash reserves and the amount of the Free Parking (Square 20) bonus, and return the player's new location and cash reserves after the turn has completed. Note that if a player goes bankrupt during the game you should return their cash as 0 instead of a negative value.\n",
    "\n",
    "**Warning:** This function will be auto-graded, so do **not** change the form of the function inputs/outputs (API)."
   ]
  },
  {
   "cell_type": "code",
   "execution_count": 7,
   "metadata": {},
   "outputs": [],
   "source": [
    "# GIVEN code - do not change the inputs/outputs!\n",
    "import random\n",
    "\n",
    "def miniopoly_turn(state, cash, bonus=500):\n",
    "    # your code goes here!\n",
    "    #   should update `state` and `cash`\n",
    "    #   according to rules of the game\n",
    "    if(cash<=0):\n",
    "        return state, 0\n",
    "    firstDice=random.randint(1,6)\n",
    "    secondDice=random.randint(1,6)\n",
    "    if(state==30):\n",
    "        if(firstDice==secondDice):\n",
    "            state=10+firstDice+secondDice\n",
    "        else:\n",
    "            cash=cash-20\n",
    "            return state, cash\n",
    "    else:\n",
    "        state=state+firstDice+secondDice\n",
    "        if(state>=40):\n",
    "            state =state-40\n",
    "            cash=cash+200\n",
    "        cardTell=[50,100, -25,-100]\n",
    "        if(state==2 or state==7 or state==17 or state==22 or state==33 or state==36):\n",
    "            cash=cash+random.choice(cardTell)\n",
    "        elif(state==20):\n",
    "            cash=cash+bonus\n",
    "        elif(state==30):\n",
    "            return state, cash\n",
    "        else:\n",
    "            cash=cash-state\n",
    "            return state,cash\n",
    "    return state,cash"
   ]
  },
  {
   "cell_type": "code",
   "execution_count": 8,
   "metadata": {},
   "outputs": [
    {
     "name": "stdout",
     "output_type": "stream",
     "text": [
      "(6, 194)\n"
     ]
    }
   ],
   "source": [
    "print(miniopoly_turn(2,200,500))"
   ]
  },
  {
   "cell_type": "markdown",
   "metadata": {},
   "source": [
    "**Part B**: Use your function from **Part A** to simulate at least 5000 games of Miniopoly for 20 turns, 40 turns and 60 turns, and make a **density** histogram of the player's cash at the end of the game under all 3 scenarios for number of turns. The histogram box faces should be slightly transparent, so as to be able to tell the 3 game-length scenarios apart. For all three histograms, use bins of width \\$250, starting at 0 on the left and extending as far to the right as needed. As always, be sure to label your axes and include an informative legend.\n",
    "\n",
    "Comment on how the histogram shape changes as the game progresses. Namely, how does the length of the game affect the distribution of players' cash? How many modes are there, and why?"
   ]
  },
  {
   "cell_type": "code",
   "execution_count": 9,
   "metadata": {},
   "outputs": [
    {
     "data": {
      "image/png": "[encoded data removed]",
      "text/plain": [
       "<Figure size 432x288 with 1 Axes>"
      ]
     },
     "metadata": {
      "needs_background": "light"
     },
     "output_type": "display_data"
    }
   ],
   "source": [
    "def turns(t):\n",
    "    state=0\n",
    "    cash=200\n",
    "    for i in range(t):\n",
    "        state, cash=miniopoly_turn(state,cash)\n",
    "        if(cash<=0):\n",
    "            return 0\n",
    "    return cash\n",
    "\n",
    "def simulateMiniopoly():\n",
    "    sim20=[]\n",
    "    sim40=[]\n",
    "    sim60=[]\n",
    "    my_Bins=range(0,5000,250)\n",
    "    for i in range(5000):\n",
    "        sim20.append(turns(20))\n",
    "    for i in range(5000):\n",
    "        sim40.append(turns(40))\n",
    "    for i in range(5000):\n",
    "        sim60.append(turns(60))\n",
    "    plt.hist(sim20, bins=my_Bins,Alpha=0.5,label=\"20 turns\",density=True)\n",
    "    plt.hist(sim40, bins=my_Bins,Alpha=0.5,label=\"40 turns\",density=True)\n",
    "    plt.hist(sim60, bins=my_Bins,Alpha=0.5,label=\"60 turns\",density=True)\n",
    "    plt.xlabel(\"Games played\")\n",
    "    plt.ylabel(\"Density\")\n",
    "    plt.title(\"Total cash\")\n",
    "    plt.legend()\n",
    "    plt.show()\n",
    "simulateMiniopoly()  \n"
   ]
  },
  {
   "cell_type": "markdown",
   "metadata": {},
   "source": [
    "Base on the graph above, as you play more games, player have higher probability to get more money which they have less chance to get bankrupt. For 20 turns, the probability that get bankrupt is high. For 40 turns, the probability that get bankrupt is lower compare  to 20 turns, and for 60 turns the probability is the lowest compare to 20, and 40 turns. One of the reason is as player play more turns, they have higher chance to get to the bonus box which prvent them from bankrupt."
   ]
  },
  {
   "cell_type": "markdown",
   "metadata": {},
   "source": [
    "**Part C**: Use your code from **Parts A and B** to estimate the probability that a player goes bankrupt in the first 40 turns of the game. Use at least 10,000 simulations.\n",
    "\n",
    "Then, run a set of at least 10,000 simulations to estimate the probability that a player goes bankrupt in the first 40 turns of the game if you remove the Free Parking Bonus of \\$500, so if a player lands on Square 20, nothing happens. Here, you should be able to easily adapt your calls to the `miniopoly_turn` function to remove the Free Parking Bonus.\n",
    "\n",
    "A common criticism of the Free Parking Bonus is that it makes Monopoly games take much longer to play. Do your results support this claim? How does the Free Parking rule seem to affect the Miniopoly games? Fully explain and justify your answers.\n",
    "\n",
    "Do you like the Free Parking bonus rule?"
   ]
  },
  {
   "cell_type": "code",
   "execution_count": 10,
   "metadata": {},
   "outputs": [
    {
     "name": "stdout",
     "output_type": "stream",
     "text": [
      "The probability that include $500 cause bankrupt is 0.142\n",
      "The probability that does not include $500 cause bankrupt is 0.174\n"
     ]
    }
   ],
   "source": [
    "def turnHelper(includeBonus):\n",
    "    state=0\n",
    "    cash=200\n",
    "    for i in range(40):\n",
    "        if(includeBonus==True):\n",
    "            state, cash=miniopoly_turn(state,cash,500)\n",
    "        elif(includeBonus==False):\n",
    "            state, cash=miniopoly_turn(state,cash,0)\n",
    "        if(cash<=0):\n",
    "            cash=0\n",
    "            return cash\n",
    "    return cash\n",
    "\n",
    "def bankrupt(includeBonus):\n",
    "    count=0\n",
    "    for i in range(10000):\n",
    "        temp=turnHelper(includeBonus)\n",
    "        if(temp<=0):\n",
    "            count=count+1\n",
    "    return count/10000\n",
    "\n",
    "print(\"The probability that include $500 cause bankrupt is\",bankrupt(True))\n",
    "print(\"The probability that does not include $500 cause bankrupt is\",bankrupt(False))\n"
   ]
  },
  {
   "cell_type": "markdown",
   "metadata": {},
   "source": [
    "Base on the calcluation above, Free Parking Bonus will not makes Monopoly games take much longer to play, because the bankrupt rate increase about 0.03 in 10000 games, which effects 300 games which cause the game end slower. Therefore, the free parking rule would reduce the fun of the game. "
   ]
  },
  {
   "cell_type": "markdown",
   "metadata": {},
   "source": [
    "**Part D**: (Note: For the rest of this problem, use a Free Parking Bonus of \\$500.)\n",
    "\n",
    "Use your code from the previous parts to estimate the probability that a player ***does not*** go bankrupt in the first 40 turns _given_ that they have landed on Free Parking at least once.  Is a player more or less likely to go bankrupt if they've landed on Free Parking? Use at least 10,000 simulations of 40-turn games, and keep at least 4 decimal places in your answer."
   ]
  },
  {
   "cell_type": "code",
   "execution_count": 11,
   "metadata": {},
   "outputs": [
    {
     "name": "stdout",
     "output_type": "stream",
     "text": [
      "The probability people land on free bonus box did not get bankrupt is 0.9821517104610809\n"
     ]
    }
   ],
   "source": [
    "def turnHelper():\n",
    "    state=0\n",
    "    cash=200\n",
    "    bonus=0\n",
    "    for i in range(40):\n",
    "        state, cash=miniopoly_turn(state,cash,500)\n",
    "        if(state==20):\n",
    "            bonus=1\n",
    "    return cash, bonus\n",
    "\n",
    "def bankrupt():\n",
    "    count=0\n",
    "    sumBonus=0\n",
    "    for i in range(10000):\n",
    "        tempCash,bonus=turnHelper()\n",
    "        sumBonus=sumBonus+bonus\n",
    "        if(tempCash>0 and bonus==1):\n",
    "            count=count+1\n",
    "    #print(count)\n",
    "    #print(sumBonus)\n",
    "    return (count/sumBonus)\n",
    "print(\"The probability people land on free bonus box did not get bankrupt is\",bankrupt())\n"
   ]
  },
  {
   "cell_type": "markdown",
   "metadata": {},
   "source": [
    "Base on the calculation above, people pass the bonus box is less likely to go bankrupt than people doesn't."
   ]
  },
  {
   "cell_type": "markdown",
   "metadata": {},
   "source": [
    "**Part E**: Use your code from the previous parts to estimate the probability (either directly or using Bayes' Rule) that a player has landed on Free Parking at least once, given that the player did not go bankrupt in the first 40 turns."
   ]
  },
  {
   "cell_type": "code",
   "execution_count": 23,
   "metadata": {},
   "outputs": [
    {
     "name": "stdout",
     "output_type": "stream",
     "text": [
      "The probability people did not get bankrupt in first 40 turns and get bonus box at least once is  0.700486448922863\n"
     ]
    }
   ],
   "source": [
    "def turnHelper():\n",
    "    state=0\n",
    "    cash=200\n",
    "    bonus=0\n",
    "    for i in range(40):\n",
    "        state, cash=miniopoly_turn(state,cash,500)\n",
    "        if(state==20):\n",
    "            bonus=1\n",
    "    return cash, bonus\n",
    "\n",
    "def bankrupt():\n",
    "    count=0\n",
    "    bonus=0\n",
    "    sumBonus=0\n",
    "    for i in range(10000):\n",
    "        tempCash,bonus=turnHelper()\n",
    "        if(bonus==True and tempCash>0):\n",
    "            sumBonus=sumBonus+1\n",
    "        if(tempCash>0):\n",
    "            count=count+1\n",
    "        \n",
    "    return sumBonus/count\n",
    "print(\"The probability people did not get bankrupt in first 40 turns and get bonus box at least once is \",bankrupt())"
   ]
  },
  {
   "cell_type": "markdown",
   "metadata": {},
   "source": [
    "Base on the calculation above, it is higher chance that people did not get bankrupt have land on frebonus at least once."
   ]
  }
 ],
 "metadata": {
  "kernelspec": {
   "display_name": "Python 3",
   "language": "python",
   "name": "python3"
  },
  "language_info": {
   "codemirror_mode": {
    "name": "ipython",
    "version": 3
   },
   "file_extension": ".py",
   "mimetype": "text/x-python",
   "name": "python",
   "nbconvert_exporter": "python",
   "pygments_lexer": "ipython3",
   "version": "3.7.1"
  }
 },
 "nbformat": 4,
 "nbformat_minor": 2
}
