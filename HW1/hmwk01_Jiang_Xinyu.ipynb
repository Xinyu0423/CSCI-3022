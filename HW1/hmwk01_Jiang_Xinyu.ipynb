{
 "cells": [
  {
   "cell_type": "markdown",
   "metadata": {},
   "source": [
    "<a id='top'></a>\n",
    "\n",
    "# Homework 1: Data Cleaning and Exploratory Data Analysis \n",
    "***\n",
    "\n",
    "**Name**: Xinyu Jiang\n",
    "\n",
    "***\n",
    "\n",
    "This assignment is due on Canvas by **5 PM on Friday February 1**. Your solutions to theoretical questions should be done in Markdown directly below the associated question.  Your solutions to computational questions should include any specified Python code and results as well as written commentary on your conclusions.  Remember that you are encouraged to discuss the problems with your classmates, but **you must write all code and solutions on your own**.\n",
    "\n",
    "**NOTES**: \n",
    "\n",
    "- Any relevant data sets should be available under the **Data** module on Canvas. To make life easier on the graders if they need to run your code, do not change the relative path names here. Instead, move the files around on your computer.\n",
    "- If you're not familiar with typesetting math directly into Markdown then by all means, do your work on paper first and then typeset it later.  Remember that there is a [reference guide](https://math.meta.stackexchange.com/questions/5020/mathjax-basic-tutorial-and-quick-reference) linked on Canvas on writing math in Markdown. **All** of your written commentary, justifications and mathematical work should be in Markdown.\n",
    "- Because you can technically evaluate notebook cells is a non-linear order, it's a good idea to do Kernel $\\rightarrow$ Restart & Run All as a check before submitting your solutions.  That way if we need to run your code you will know that it will work as expected. \n",
    "- It is **bad form** to make your reader interpret numerical output from your code.  If a question asks you to compute some value from the data you should show your code output **AND** write a summary of the results in Markdown directly below your code. \n",
    "- This probably goes without saying, but... For any question that asks you to calculate something, you **must show all work and justify your answers to receive credit**. Sparse or nonexistent work will receive sparse or nonexistent credit. \n",
    "\n",
    "---\n",
    "**Shortcuts:**  [Problem 1](#p1) | [Problem 2](#p2) | [Problem 3](#p3) | [Problem 4](#p4) | [Problem 5](#p5)\n",
    "\n",
    "---"
   ]
  },
  {
   "cell_type": "code",
   "execution_count": 1,
   "metadata": {},
   "outputs": [],
   "source": [
    "import pandas as pd\n",
    "import numpy as np\n",
    "import matplotlib.pylab as plt\n",
    "%matplotlib inline"
   ]
  },
  {
   "cell_type": "markdown",
   "metadata": {},
   "source": [
    "[Back to top](#top)\n",
    "\n",
    "<br>\n",
    "\n",
    "<a/ id='p1'></a>\n",
    "\n",
    "### (10 pts) Problem 1 \n",
    "***\n",
    "\n",
    "![hedgehog](https://www.irishexaminer.com/remote/media.central.ie/media/images/h/hedgehog17_large.jpg?width=648&s=ie-467290)\n",
    "\n",
    "Hedgehogs are undeniably one of the cutest creatures in all of the land, so the University of Colorado Boulder wants to switch its mascot to the hedgehog. Before making the switch, the CU officials need to know whether they will be able to find new hedgehog mascot handlers, similar to the current Ralphie handlers. You are called upon to perform an experiment to order to determine how fit CU Boulder students are for hedgehog-handling. There are too many students at CU for you to test all of their **Hedgehog-Handling Ability** (HHA), so from a roster of all students and their majors, you will randomly test the HHA of one-tenth of the majors from each department on campus. (Assume nobody is a double major, and assume that everybody has a major.) From this sample, you will estimate the mean HHA of all students on campus, and let the CU officials know whether or not CU students will be able to handle hedgehogs.\n",
    "\n",
    "Identify the following: \n",
    "\n",
    "- the population \n",
    "- the sample frame \n",
    "- the sample \n",
    "- the type of sample \n",
    "- the quantity of interest "
   ]
  },
  {
   "cell_type": "markdown",
   "metadata": {},
   "source": [
    "Population: CU Boulder students   \n",
    "Sample frame：the list of CU Boulder student  \n",
    "Sample: one-tenth of the majors who answers  \n",
    "Type of sample: Stratified sample  \n",
    "Quantity of interest: Ability of handle hedgehogs  "
   ]
  },
  {
   "cell_type": "markdown",
   "metadata": {},
   "source": [
    "[Back to top](#top)\n",
    "\n",
    "<br>\n",
    "\n",
    "<a/ id='p2'></a>\n",
    "\n",
    "### (20 pts) Problem 2 \n",
    "***\n",
    "\n",
    "A method to investigate the sensitivity of the sample mean and the sample median to extreme outliers and changes in the dataset is to replace one or more elements in a given dataset by a number $y$ and investigate the eﬀect when $y$ changes. To illustrate this, consider the dataset\n",
    "\n",
    "$$\n",
    "y \\quad \n",
    "5.4 \\quad\n",
    "5.0 \\quad\n",
    "6.5 \\quad\n",
    "7.7 \\quad\n",
    "6.0 \\quad\n",
    "1.9\n",
    "$$"
   ]
  },
  {
   "cell_type": "markdown",
   "metadata": {},
   "source": [
    "**Part A**: Compute the sample mean and sample median for $y=2$. Compute them both again for $y=8$."
   ]
  },
  {
   "cell_type": "markdown",
   "metadata": {},
   "source": [
    "y=2  \n",
    "Mean: 4.93  \n",
    "Median: 5.4  \n",
    "y=8  \n",
    "Mean: 5.8  \n",
    "Median: 6.0  "
   ]
  },
  {
   "cell_type": "markdown",
   "metadata": {},
   "source": [
    "**Part B**: Is there a value for $y$ that would make the mean of those data equal to $4$? If so, calculate the value of $y$ that makes the mean equal to $4$. If not, clearly explain why not.\n",
    "\n",
    "Is there a value for $y$ that would make the median of those data equal to $4$? If so, calculate the value of $y$ that makes the median equal to $4$. If not, clearly explain why not."
   ]
  },
  {
   "cell_type": "markdown",
   "metadata": {
    "collapsed": true
   },
   "source": [
    "Yes, if y=-4.6, the mean will euqal to 4  \n",
    "No, because for y in range $(6.0, \\infty)$, the median value is 6.0 no matter what value is. For y value in range $(5.4,6.0)$, the median value is whatever value in range $(5.4,6.0)$ which could not make median equal to 4. For y value in range $(-\\infty, 5.4)$, the median value is 5.4, so it could not make median equal to 4, since range $(6.0, \\infty)$ $(5.4,6.0)$ $(-\\infty, 5.4)$ include all real number, so there is no value make the median equal to 4 \n"
   ]
  },
  {
   "cell_type": "markdown",
   "metadata": {},
   "source": [
    "**Part C**: Compute the sample median for the following cases: \n",
    "- $y=5$ \n",
    "- $y=50$ \n",
    "- $y=5.39$ \n",
    "- $y=5.41$\n",
    "- $y \\to \\infty$ \n",
    "- $y \\to -\\infty$ "
   ]
  },
  {
   "cell_type": "markdown",
   "metadata": {
    "collapsed": true
   },
   "source": [
    "𝑦=5 \n",
    "Median= 5.4  \n",
    "𝑦=50  \n",
    "Median= 6.0  \n",
    "𝑦=5.39  \n",
    "Median= 5.4  \n",
    "𝑦=5.41  \n",
    "Median= 5.41  \n",
    "𝑦→$\\infty$  \n",
    "Median=6.0  \n",
    "𝑦→−$\\infty$  \n",
    "Median=6.0"
   ]
  },
  {
   "cell_type": "markdown",
   "metadata": {},
   "source": [
    "**Part D**: Think about the previous parts, above, and describe in words or mathematical notation the answers to the following two questions:\n",
    "\n",
    "- By varying $y$, what is the set of all the possible values that the sample mean could take on?\n",
    "- By varying $y$, what is the set of all the possible values that the sample median could take on? Specifically, for what sets of $y$ values does the median take on its different possible values?"
   ]
  },
  {
   "cell_type": "markdown",
   "metadata": {},
   "source": [
    "By varing y, the range of mean value could be anything from $(-\\infty, \\infty)$.\n",
    "By varing y, for y in range $(6.0, \\infty)$, the median value is 6.0. For y in range $(5,4, 6.0)$, the median value is whatever value in range $(5.4,6.0)$. For y in range $(-\\infty, 5.4)$, the median value is 5.4 "
   ]
  },
  {
   "cell_type": "markdown",
   "metadata": {},
   "source": [
    "[Back to top](#top)\n",
    "\n",
    "<br>\n",
    "\n",
    "<a/ id='p3'></a>\n",
    "\n",
    "### (20 pts) Problem 3 \n",
    "***\n",
    "\n",
    "Let $x_1, x_2, \\ldots, x_n$ be $n$ observations of a variable of interest.  Recall that the sample mean $\\bar{x}_n$ and sample variance $s^2_n$ are given by \n",
    "\n",
    "$$\n",
    "\\bar{x}_n = \\frac{1}{n}\\sum_{k=1}^n x_k \\quad \\textrm{and} \\quad s^2_n = \\frac{1}{n-1}\\sum_{k=1}^n \\left( x_k - \\bar{x}_n\\right)^2 \\qquad \\tag{Equation 1}\n",
    "$$\n",
    "\n",
    "where here the subscript $n$'s indicate the number of observations in the sample. Notice that a natural computation of the variance requires two passes over the data: one to compute the mean, and a second to subtract the mean from each observation and compute the sum of squares. It is often useful to be able to compute the variance in a single pass, inspecting each value $x_k$ only once; for example, when the data are being collected without enough storage to keep all the values, or when costs of memory access dominate those of computation. In this problem you will explore two methods for such an _online_ computation of the mean.  \n",
    "\n",
    "**Part A**: Show algebraically that the following relation holds between the mean of the first $n-1$ observations and the mean of all $n$ observations: \n",
    "\n",
    "$$\n",
    "\\bar{x}_n = \\bar{x}_{n-1} + \\frac{x_n - \\bar{x}_{n-1}}{n}\n",
    "$$\n",
    "\n",
    "Note that you can get an expression for $\\bar{x}_{n-1}$ by simply replacing $n$ in Equation 1 above with $n-1$."
   ]
  },
  {
   "cell_type": "markdown",
   "metadata": {},
   "source": [
    "By the statement above, the mean of n-1 is : $\\bar{x}_{n-1} = \\frac{1}{n-1}\\sum_{k=1}^{n-1}{x_k}$  \n",
    "$\\bar{x}_{n} = \\frac{1}{n}\\sum_{k=1}^{n-1}{x_k}+\\frac{x_n}{n}$  \n",
    "$\\bar{x}_{n} = \\frac{n-1}{n-1}\\frac{1}{n}(x_1+x_2+...+x_{n-1})+\\frac{x_n}{n}$  \n",
    "$\\bar{x}_{n} = \\frac{n-1}{n}\\frac{1}{n-1}(x_1+x_2+...+x_{n-1})+\\frac{x_n}{n}$  \n",
    "By the statement above $\\frac{1}{n-1}(x_1+x_2+...+x_{n-1})=\\bar{x}_{n-1}$  \n",
    "$\\bar{x}_{n} = \\frac{n-1}{n}\\bar{x}_{n-1}+\\frac{x_n}{n}$  \n",
    "$\\bar{x}_{n} = \\dfrac{(n-1)(\\bar{x}_{n-1})+x_n}{n}$  \n",
    "$\\bar{x}_{n} = \\dfrac{n\\overline{x}_{n-1}+\\bar{x}_{n-1}+x_n}{n}$  \n",
    "$\\bar{x}_{n} = \\bar{x}_{n-1}+\\dfrac{x_n-\\bar{x}_{n-1}}{n}$"
   ]
  },
  {
   "cell_type": "markdown",
   "metadata": {},
   "source": [
    "**Part B**: Write a function `my_sample_mean` that takes as its input a numpy array and returns the mean of that numpy array using the formulas from class (written above). Write another function `my_sample_var` that takes as its input a numpy array and returns the variance of that numpy array, again using the formulas from class (written above). You may **not** use any built-in sample mean or variance functions."
   ]
  },
  {
   "cell_type": "code",
   "execution_count": 2,
   "metadata": {},
   "outputs": [],
   "source": [
    "def my_sample_mean(arr):\n",
    "    sum=np.sum(arr)\n",
    "    mean=sum/len(arr)\n",
    "    return mean\n",
    "\n",
    "def my_sample_var(arr):\n",
    "    sum=np.sum(arr)\n",
    "    mean=sum/len(arr)\n",
    "    varSum=0\n",
    "    for i in arr:\n",
    "        varSum=(i-mean)*(i-mean)+varSum\n",
    "    var=varSum/(len(arr)-1)\n",
    "    return var\n",
    "#arr=[3,9,1,14,8]\n",
    "#print(my_sample_mean(arr))\n",
    "#print(my_sample_var(arr))"
   ]
  },
  {
   "cell_type": "markdown",
   "metadata": {},
   "source": [
    "**Part C**: Use your functions from Part B to compute the sample mean and sample variance of the following array, which contains the hedgehog-handling abilities (HHA) of a sample of 12 CU Boulder hedgehog handlers.\n",
    "\n",
    "`hha = [98, 26, 83, 56, 60, 39, 81, 19, 72, 78, 94, 42]`"
   ]
  },
  {
   "cell_type": "code",
   "execution_count": 3,
   "metadata": {},
   "outputs": [
    {
     "name": "stdout",
     "output_type": "stream",
     "text": [
      "The sample mean for hha is  62.333333333333336\n",
      "The sample variance for hha is  690.060606060606\n"
     ]
    }
   ],
   "source": [
    "def my_sample_mean(arr):\n",
    "    sum=np.sum(arr)\n",
    "    mean=sum/len(arr)\n",
    "    return mean\n",
    "\n",
    "def my_sample_var(arr):\n",
    "    sum=np.sum(arr)\n",
    "    mean=sum/len(arr)\n",
    "    varSum=0\n",
    "    for i in arr:\n",
    "        varSum=(i-mean)*(i-mean)+varSum\n",
    "    var=varSum/(len(arr)-1)\n",
    "    return var\n",
    "hha = [98, 26, 83, 56, 60, 39, 81, 19, 72, 78, 94, 42]\n",
    "print(\"The sample mean for hha is \",my_sample_mean(hha))\n",
    "print(\"The sample variance for hha is \",my_sample_var(hha))"
   ]
  },
  {
   "cell_type": "markdown",
   "metadata": {},
   "source": [
    "**Part D**: Implement a third function called `update_mean` that implements the formula whose validity you proved in Part A. Note that this function will need to take as its input three things: $x_n$, $\\bar{x}_{n-1}$ and $n$. A function header is provided for you. This function may be auto-graded, so please do not change the given API - the order of inputs matters! If you change it, you might lose points.\n",
    "\n",
    "Use this function to compute the values that you get from taking the mean of the first hedgehog handler, the first two hedgehog handlers, the first three hedgehog handlers, and so on up to all of the hedgehog handler data points. Store your HHA means in a numpy array called `hha_means`.  Report all 12 estimates in `hha_means`."
   ]
  },
  {
   "cell_type": "code",
   "execution_count": 4,
   "metadata": {},
   "outputs": [],
   "source": [
    "# Given API:\n",
    "def update_mean(prev_mean, xn, n):\n",
    "    # your code goes here!\n",
    "    upMean=prev_mean+(xn-prev_mean)/n\n",
    "    return upMean\n",
    "#the updated mean"
   ]
  },
  {
   "cell_type": "markdown",
   "metadata": {},
   "source": [
    "To ensure your function complies with the given API, run this small test, where we suppose we have a mean of $\\bar{x}_n = 1$ with the first $2$ data points (`prev_mean`), and we update this with the 3rd ($n=3$) data point which is $x_3=2$:"
   ]
  },
  {
   "cell_type": "code",
   "execution_count": 5,
   "metadata": {},
   "outputs": [],
   "source": [
    "assert update_mean(1,2,3)==4/3, \"Warning: function seems broken.\""
   ]
  },
  {
   "cell_type": "code",
   "execution_count": 6,
   "metadata": {},
   "outputs": [
    {
     "name": "stdout",
     "output_type": "stream",
     "text": [
      "[98, 62.0, 69.0, 65.75, 64.6, 60.33333333333333, 63.285714285714285, 57.75, 59.333333333333336, 61.2, 64.18181818181819, 62.333333333333336]\n"
     ]
    }
   ],
   "source": [
    "hha_means=[]\n",
    "n=0\n",
    "for i in hha:\n",
    "    if n==0:\n",
    "        hha_means.append(i)\n",
    "    else:\n",
    "        hha_means.append(update_mean(hha_means[n-1],i,n+1))\n",
    "    n=n+1\n",
    "print(hha_means)"
   ]
  },
  {
   "cell_type": "markdown",
   "metadata": {},
   "source": [
    "[Back to top](#top)\n",
    "\n",
    "<br>\n",
    "\n",
    "<a/ id='p4'></a>\n",
    "\n",
    "### (25 pts) Problem 4\n",
    "*** \n",
    "Some claim that the final hours aboard the RMS Titanic were marked by \"class warfare\" in which the people with first-class tickets took all the good spots on the lifeboats; others claim that the final hours were characterized by male chivalry, in which the men valiantly gave up their positions in the boats and succumbed bravely to the depths of the Atlantic. \n",
    "\n",
    "We have the data on survival rates by class and by sex, so let's figure out whether there is evidence for these scenarios. Access the Titanic data in `titanic_data.csv` and store it in a Pandas DataFrame. The data contains information pertaining to class status (**Pclass**), survival (**Survived**), and gender (**Sex**) of passengers, among other things. Be sure to use the `titanic_data.csv` data set, *not* the `clean_titanic_data` file from the in-class notebook."
   ]
  },
  {
   "cell_type": "code",
   "execution_count": 7,
   "metadata": {},
   "outputs": [
    {
     "data": {
      "text/html": [
       "<div>\n",
       "<style scoped>\n",
       "    .dataframe tbody tr th:only-of-type {\n",
       "        vertical-align: middle;\n",
       "    }\n",
       "\n",
       "    .dataframe tbody tr th {\n",
       "        vertical-align: top;\n",
       "    }\n",
       "\n",
       "    .dataframe thead th {\n",
       "        text-align: right;\n",
       "    }\n",
       "</style>\n",
       "<table border=\"1\" class=\"dataframe\">\n",
       "  <thead>\n",
       "    <tr style=\"text-align: right;\">\n",
       "      <th></th>\n",
       "      <th>PassengerId</th>\n",
       "      <th>Survived</th>\n",
       "      <th>Pclass</th>\n",
       "      <th>Name</th>\n",
       "      <th>Sex</th>\n",
       "      <th>Age</th>\n",
       "      <th>SibSp</th>\n",
       "      <th>Parch</th>\n",
       "      <th>Ticket</th>\n",
       "      <th>Fare</th>\n",
       "      <th>Cabin</th>\n",
       "      <th>Embarked</th>\n",
       "    </tr>\n",
       "  </thead>\n",
       "  <tbody>\n",
       "    <tr>\n",
       "      <th>0</th>\n",
       "      <td>1</td>\n",
       "      <td>0</td>\n",
       "      <td>3</td>\n",
       "      <td>Braund, Mr. Owen Harris</td>\n",
       "      <td>male</td>\n",
       "      <td>36.0</td>\n",
       "      <td>1</td>\n",
       "      <td>0</td>\n",
       "      <td>A/5 21171</td>\n",
       "      <td>7.2500</td>\n",
       "      <td>NaN</td>\n",
       "      <td>S</td>\n",
       "    </tr>\n",
       "    <tr>\n",
       "      <th>1</th>\n",
       "      <td>2</td>\n",
       "      <td>1</td>\n",
       "      <td>1</td>\n",
       "      <td>Cumings, Mrs. John Bradley (Florence Briggs Th...</td>\n",
       "      <td>female</td>\n",
       "      <td>18.0</td>\n",
       "      <td>1</td>\n",
       "      <td>0</td>\n",
       "      <td>PC 17599</td>\n",
       "      <td>71.2833</td>\n",
       "      <td>C85</td>\n",
       "      <td>C</td>\n",
       "    </tr>\n",
       "    <tr>\n",
       "      <th>2</th>\n",
       "      <td>3</td>\n",
       "      <td>1</td>\n",
       "      <td>3</td>\n",
       "      <td>Heikkinen, Miss. Laina</td>\n",
       "      <td>female</td>\n",
       "      <td>14.0</td>\n",
       "      <td>0</td>\n",
       "      <td>0</td>\n",
       "      <td>STON/O2. 3101282</td>\n",
       "      <td>7.9250</td>\n",
       "      <td>NaN</td>\n",
       "      <td>S</td>\n",
       "    </tr>\n",
       "    <tr>\n",
       "      <th>3</th>\n",
       "      <td>4</td>\n",
       "      <td>1</td>\n",
       "      <td>1</td>\n",
       "      <td>Futrelle, Mrs. Jacques Heath (Lily May Peel)</td>\n",
       "      <td>female</td>\n",
       "      <td>27.0</td>\n",
       "      <td>1</td>\n",
       "      <td>0</td>\n",
       "      <td>113803</td>\n",
       "      <td>53.1000</td>\n",
       "      <td>C123</td>\n",
       "      <td>S</td>\n",
       "    </tr>\n",
       "    <tr>\n",
       "      <th>4</th>\n",
       "      <td>5</td>\n",
       "      <td>0</td>\n",
       "      <td>3</td>\n",
       "      <td>Allen, Mr. William Henry</td>\n",
       "      <td>male</td>\n",
       "      <td>63.0</td>\n",
       "      <td>0</td>\n",
       "      <td>0</td>\n",
       "      <td>373450</td>\n",
       "      <td>8.0500</td>\n",
       "      <td>NaN</td>\n",
       "      <td>S</td>\n",
       "    </tr>\n",
       "  </tbody>\n",
       "</table>\n",
       "</div>"
      ],
      "text/plain": [
       "   PassengerId  Survived  Pclass  \\\n",
       "0            1         0       3   \n",
       "1            2         1       1   \n",
       "2            3         1       3   \n",
       "3            4         1       1   \n",
       "4            5         0       3   \n",
       "\n",
       "                                                Name     Sex   Age  SibSp  \\\n",
       "0                            Braund, Mr. Owen Harris    male  36.0      1   \n",
       "1  Cumings, Mrs. John Bradley (Florence Briggs Th...  female  18.0      1   \n",
       "2                             Heikkinen, Miss. Laina  female  14.0      0   \n",
       "3       Futrelle, Mrs. Jacques Heath (Lily May Peel)  female  27.0      1   \n",
       "4                           Allen, Mr. William Henry    male  63.0      0   \n",
       "\n",
       "   Parch            Ticket     Fare Cabin Embarked  \n",
       "0      0         A/5 21171   7.2500   NaN        S  \n",
       "1      0          PC 17599  71.2833   C85        C  \n",
       "2      0  STON/O2. 3101282   7.9250   NaN        S  \n",
       "3      0            113803  53.1000  C123        S  \n",
       "4      0            373450   8.0500   NaN        S  "
      ]
     },
     "execution_count": 7,
     "metadata": {},
     "output_type": "execute_result"
    }
   ],
   "source": [
    "df = pd.read_csv(\"titanic_data.csv\")\n",
    "df.head()"
   ]
  },
  {
   "cell_type": "markdown",
   "metadata": {},
   "source": [
    "**Part A**: Consider the two claims: class warfare, and male chivalry. Suppose that class warfare occurred in the final hours aboard the Titanic.  What patterns might you expect to see in the data?  Suppose that male chivalry was widespread during the final hours instead. What patterns might you then expect to see in the data?  Explain both of these hypothesized patterns in words. Are these two hypotheses mutually exclusive or not?"
   ]
  },
  {
   "cell_type": "markdown",
   "metadata": {},
   "source": [
    "If class warfare occurred in the final hours aboard the Titanic, people who stay in first class have higher chance to surive and people who stay in lower-class would have lower chance to surive.  \n",
    "If male chivalry was widespread during the final hours, then male would have lower chance to surive(based on \"lady first\"), and female would have higher chance to surive.  \n",
    "These two hypnthesis are mutually exclusive, because it is possible that people live in first class are male, then for class warfare, he would have higher surive chance, but for male chivalry, he would have low surive chance.  "
   ]
  },
  {
   "cell_type": "markdown",
   "metadata": {},
   "source": [
    "**Part B**: Use Pandas methods to create a clean data set by removing any rows from the DataFrame that are missing values corresponding to **Survived**, **Pclass**, **Age**, or **Sex**. Store the clean data in a DataFrame called dfTitanic. Be sure to show any exploratory work determining if/where there are rows with missing values."
   ]
  },
  {
   "cell_type": "code",
   "execution_count": 8,
   "metadata": {},
   "outputs": [
    {
     "data": {
      "text/html": [
       "<div>\n",
       "<style scoped>\n",
       "    .dataframe tbody tr th:only-of-type {\n",
       "        vertical-align: middle;\n",
       "    }\n",
       "\n",
       "    .dataframe tbody tr th {\n",
       "        vertical-align: top;\n",
       "    }\n",
       "\n",
       "    .dataframe thead th {\n",
       "        text-align: right;\n",
       "    }\n",
       "</style>\n",
       "<table border=\"1\" class=\"dataframe\">\n",
       "  <thead>\n",
       "    <tr style=\"text-align: right;\">\n",
       "      <th></th>\n",
       "      <th>PassengerId</th>\n",
       "      <th>Survived</th>\n",
       "      <th>Pclass</th>\n",
       "      <th>Name</th>\n",
       "      <th>Sex</th>\n",
       "      <th>Age</th>\n",
       "      <th>SibSp</th>\n",
       "      <th>Parch</th>\n",
       "      <th>Ticket</th>\n",
       "      <th>Fare</th>\n",
       "      <th>Cabin</th>\n",
       "      <th>Embarked</th>\n",
       "    </tr>\n",
       "  </thead>\n",
       "  <tbody>\n",
       "    <tr>\n",
       "      <th>0</th>\n",
       "      <td>1</td>\n",
       "      <td>0</td>\n",
       "      <td>3</td>\n",
       "      <td>Braund, Mr. Owen Harris</td>\n",
       "      <td>male</td>\n",
       "      <td>36.0</td>\n",
       "      <td>1</td>\n",
       "      <td>0</td>\n",
       "      <td>A/5 21171</td>\n",
       "      <td>7.2500</td>\n",
       "      <td>NaN</td>\n",
       "      <td>S</td>\n",
       "    </tr>\n",
       "    <tr>\n",
       "      <th>1</th>\n",
       "      <td>2</td>\n",
       "      <td>1</td>\n",
       "      <td>1</td>\n",
       "      <td>Cumings, Mrs. John Bradley (Florence Briggs Th...</td>\n",
       "      <td>female</td>\n",
       "      <td>18.0</td>\n",
       "      <td>1</td>\n",
       "      <td>0</td>\n",
       "      <td>PC 17599</td>\n",
       "      <td>71.2833</td>\n",
       "      <td>C85</td>\n",
       "      <td>C</td>\n",
       "    </tr>\n",
       "    <tr>\n",
       "      <th>2</th>\n",
       "      <td>3</td>\n",
       "      <td>1</td>\n",
       "      <td>3</td>\n",
       "      <td>Heikkinen, Miss. Laina</td>\n",
       "      <td>female</td>\n",
       "      <td>14.0</td>\n",
       "      <td>0</td>\n",
       "      <td>0</td>\n",
       "      <td>STON/O2. 3101282</td>\n",
       "      <td>7.9250</td>\n",
       "      <td>NaN</td>\n",
       "      <td>S</td>\n",
       "    </tr>\n",
       "    <tr>\n",
       "      <th>3</th>\n",
       "      <td>4</td>\n",
       "      <td>1</td>\n",
       "      <td>1</td>\n",
       "      <td>Futrelle, Mrs. Jacques Heath (Lily May Peel)</td>\n",
       "      <td>female</td>\n",
       "      <td>27.0</td>\n",
       "      <td>1</td>\n",
       "      <td>0</td>\n",
       "      <td>113803</td>\n",
       "      <td>53.1000</td>\n",
       "      <td>C123</td>\n",
       "      <td>S</td>\n",
       "    </tr>\n",
       "    <tr>\n",
       "      <th>4</th>\n",
       "      <td>5</td>\n",
       "      <td>0</td>\n",
       "      <td>3</td>\n",
       "      <td>Allen, Mr. William Henry</td>\n",
       "      <td>male</td>\n",
       "      <td>63.0</td>\n",
       "      <td>0</td>\n",
       "      <td>0</td>\n",
       "      <td>373450</td>\n",
       "      <td>8.0500</td>\n",
       "      <td>NaN</td>\n",
       "      <td>S</td>\n",
       "    </tr>\n",
       "  </tbody>\n",
       "</table>\n",
       "</div>"
      ],
      "text/plain": [
       "   PassengerId  Survived  Pclass  \\\n",
       "0            1         0       3   \n",
       "1            2         1       1   \n",
       "2            3         1       3   \n",
       "3            4         1       1   \n",
       "4            5         0       3   \n",
       "\n",
       "                                                Name     Sex   Age  SibSp  \\\n",
       "0                            Braund, Mr. Owen Harris    male  36.0      1   \n",
       "1  Cumings, Mrs. John Bradley (Florence Briggs Th...  female  18.0      1   \n",
       "2                             Heikkinen, Miss. Laina  female  14.0      0   \n",
       "3       Futrelle, Mrs. Jacques Heath (Lily May Peel)  female  27.0      1   \n",
       "4                           Allen, Mr. William Henry    male  63.0      0   \n",
       "\n",
       "   Parch            Ticket     Fare Cabin Embarked  \n",
       "0      0         A/5 21171   7.2500   NaN        S  \n",
       "1      0          PC 17599  71.2833   C85        C  \n",
       "2      0  STON/O2. 3101282   7.9250   NaN        S  \n",
       "3      0            113803  53.1000  C123        S  \n",
       "4      0            373450   8.0500   NaN        S  "
      ]
     },
     "execution_count": 8,
     "metadata": {},
     "output_type": "execute_result"
    }
   ],
   "source": [
    "dfTitanic=df.dropna(subset=[\"Survived\", \"Pclass\",\"Age\", \"Sex\"])\n",
    "dfTitanic.head()"
   ]
  },
  {
   "cell_type": "markdown",
   "metadata": {},
   "source": [
    "**Part C**: Compute the fraction of survivors according to class and gender. There are 3 passenger classes and 2 sexes in the data set, so you should report all 6 possible combinations.  Then, answer 3 questions:\n",
    "* **(i)** Within each passenger class, were men or women more/less/equally likely to survive?\n",
    "* **(ii)**  Looking at only the male or only the female passengers, how is passenger class related to the category's survival rate?\n",
    "* **(iii)**  Did men in first class or women in third class have a higher survival rate? "
   ]
  },
  {
   "cell_type": "code",
   "execution_count": 9,
   "metadata": {},
   "outputs": [
    {
     "name": "stdout",
     "output_type": "stream",
     "text": [
      "------------------First Class----------------------------\n",
      "There are  108  people sruived\n",
      "There are  36  male sruived\n",
      "There are  72  Female sruived\n",
      "The male surive rate is  0.3870967741935484\n",
      "The female surive rate is  0.96\n",
      "------------------Second Class----------------------------\n",
      "There are  70  people sruived\n",
      "There are  16  male sruived\n",
      "There are  54  Female sruived\n",
      "The male surive rate is  0.1839080459770115\n",
      "The female surive rate is  0.9310344827586207\n",
      "------------------Third Class----------------------------\n",
      "There are  101  people sruived\n",
      "There are  39  male sruived\n",
      "There are  62  Female sruived\n",
      "The male surive rate is  0.13780918727915195\n",
      "The female surive rate is  0.5254237288135594\n"
     ]
    }
   ],
   "source": [
    "print(\"------------------First Class----------------------------\")\n",
    "firstSurvived = dfTitanic.loc[dfTitanic['Pclass'] == 1, 'Survived'].sum()\n",
    "firstMale = dfTitanic.loc[(dfTitanic['Pclass'] == 1) & (dfTitanic[\"Sex\"]==\"male\"), 'Survived'].sum()\n",
    "maleTotal = len(dfTitanic.loc[(dfTitanic[\"Pclass\"]==1) & (dfTitanic[\"Sex\"]==\"male\"), \"Survived\"])\n",
    "femaleTotal = len(dfTitanic.loc[(dfTitanic[\"Pclass\"]==1) & (dfTitanic[\"Sex\"]==\"female\"), \"Survived\"])\n",
    "firstFemale = dfTitanic.loc[(dfTitanic['Pclass'] == 1) & (dfTitanic[\"Sex\"]==\"female\"), 'Survived'].sum()\n",
    "print(\"There are \",firstSurvived, \" people sruived\")\n",
    "print(\"There are \",firstMale, \" male sruived\")\n",
    "print(\"There are \",firstFemale, \" Female sruived\")\n",
    "print(\"The male surive rate is \", firstMale/maleTotal)\n",
    "print(\"The female surive rate is \", firstFemale/femaleTotal)\n",
    "\n",
    "print(\"------------------Second Class----------------------------\")\n",
    "secondSurvived = dfTitanic.loc[df['Pclass'] == 2, 'Survived'].sum()\n",
    "secondMaleTotal = len(dfTitanic.loc[(dfTitanic[\"Pclass\"]==2) & (dfTitanic[\"Sex\"]==\"male\"), \"Survived\"])\n",
    "secondFemaleTotal = len(dfTitanic.loc[(dfTitanic[\"Pclass\"]==2) & (dfTitanic[\"Sex\"]==\"female\"), \"Survived\"])\n",
    "secondMale = dfTitanic.loc[(dfTitanic['Pclass'] == 2) & (dfTitanic[\"Sex\"]==\"male\"), 'Survived'].sum()\n",
    "secondFemale = dfTitanic.loc[(dfTitanic['Pclass'] == 2) & (dfTitanic[\"Sex\"]==\"female\"), 'Survived'].sum()\n",
    "print(\"There are \",secondSurvived, \" people sruived\")\n",
    "print(\"There are \",secondMale, \" male sruived\")\n",
    "print(\"There are \",secondFemale, \" Female sruived\")\n",
    "print(\"The male surive rate is \", secondMale/secondMaleTotal)\n",
    "print(\"The female surive rate is \", secondFemale/secondFemaleTotal)\n",
    "\n",
    "print(\"------------------Third Class----------------------------\")\n",
    "thirdSurvived = dfTitanic.loc[dfTitanic['Pclass'] == 3, 'Survived'].sum()\n",
    "thirdMaleTotal = len(dfTitanic.loc[(dfTitanic[\"Pclass\"]==3) & (dfTitanic[\"Sex\"]==\"male\"), \"Survived\"])\n",
    "thirdFemaleTotal = len(dfTitanic.loc[(dfTitanic[\"Pclass\"]==3) & (dfTitanic[\"Sex\"]==\"female\"), \"Survived\"])\n",
    "thirdMale = dfTitanic.loc[(dfTitanic['Pclass'] == 3) & (dfTitanic[\"Sex\"]==\"male\"), 'Survived'].sum()\n",
    "thirdFemale = dfTitanic.loc[(dfTitanic['Pclass'] == 3) & (dfTitanic[\"Sex\"]==\"female\"), 'Survived'].sum()\n",
    "print(\"There are \",thirdSurvived, \" people sruived\")\n",
    "print(\"There are \",thirdMale, \" male sruived\")\n",
    "print(\"There are \",thirdFemale, \" Female sruived\")\n",
    "print(\"The male surive rate is \", thirdMale/thirdMaleTotal)\n",
    "print(\"The female surive rate is \", thirdFemale/thirdFemaleTotal)"
   ]
  },
  {
   "cell_type": "markdown",
   "metadata": {},
   "source": [
    "1. Base on the data above, in all three class, female have higher surive rate than male.  \n",
    "2. The passanger clss does directly effect surive rate. For example, male surive rate in first class in 0.387, but third class male surive rate is 0.138 which is higher than first class male surive rate.  \n",
    "3. Base on the data above, women in third class have higher surive rate than men in first class.  "
   ]
  },
  {
   "cell_type": "markdown",
   "metadata": {},
   "source": [
    "**Part D**: Plot a histogram of all of the passenger ages, using the bin edges $[0,5,10,\\ldots,70,75,80]$ defined by `my_bins` below. How would you characterize the distribution of **AGE**? (By _characterize_ we mean that you should indicate whether the data are unimodal, bimodal, multimodal, symmetric, negatively skewed, positively skewed, etc.)  Be sure to label your axes and use your figure to justify your conclusions."
   ]
  },
  {
   "cell_type": "code",
   "execution_count": 10,
   "metadata": {},
   "outputs": [],
   "source": [
    "my_bins = range(0,85,5)"
   ]
  },
  {
   "cell_type": "code",
   "execution_count": 11,
   "metadata": {},
   "outputs": [
    {
     "data": {
      "text/plain": [
       "Text(0, 0.5, 'Frequency')"
      ]
     },
     "execution_count": 11,
     "metadata": {},
     "output_type": "execute_result"
    },
    {
     "data": {
      "image/png": "[encoded data removed]",
      "text/plain": [
       "<Figure size 576x288 with 1 Axes>"
      ]
     },
     "metadata": {
      "needs_background": "light"
     },
     "output_type": "display_data"
    }
   ],
   "source": [
    "fig, ax = plt.subplots(figsize=(8,4))\n",
    "dfTitanic.hist(column=\"Age\", ax=ax, bins=my_bins, facecolor=\"coral\", edgecolor=\"white\")\n",
    "ax.set_xlabel(\"Passanger age\", fontsize=16)\n",
    "ax.set_ylabel(\"Frequency\", fontsize=16)\n"
   ]
  },
  {
   "cell_type": "markdown",
   "metadata": {},
   "source": [
    "Base on the graph above, the graph is unimodal, and it is positive skew."
   ]
  },
  {
   "cell_type": "markdown",
   "metadata": {},
   "source": [
    "**Part E**: One might wonder how a passenger's age is related to the likelihood that they would survive the Titanic disaster. To answer this question graphically, plot two density histograms on the same set of axes, showing the distribution of the ages of passengers who survived, and the distribution of the ages of passengers who did not. \n",
    "* Use the bin edges $[0,5,10,\\ldots,70,75,80]$ for both histograms.\n",
    "* This problem is about a *ship* sinking in the *ocean*, so use **coral** and **seagreen** as the facecolors for your histogram boxes.\n",
    "* Plot both histograms on a single set of axes (there should be only one panel in the figure you create), but use Matplotlib/Pandas plotting functionality to make the faces of the histogram boxes somewhat transparent, so both histograms are visible.\n",
    "* Include a legend and label your axes.\n",
    "* Comment on the results. Does your figure suggest that some age ranges are more or less likely to have survived the disaster than other ages? Fully explain your reasoning and use your figure to justify your conclusions.\n",
    "* If you noticed some relationship between age and likelihood of survival, what is one possible explanation?"
   ]
  },
  {
   "cell_type": "code",
   "execution_count": 12,
   "metadata": {},
   "outputs": [
    {
     "data": {
      "text/plain": [
       "<matplotlib.legend.Legend at 0x10b08b438>"
      ]
     },
     "execution_count": 12,
     "metadata": {},
     "output_type": "execute_result"
    },
    {
     "data": {
      "image/png": "[encoded data removed]",
      "text/plain": [
       "<Figure size 576x288 with 1 Axes>"
      ]
     },
     "metadata": {
      "needs_background": "light"
     },
     "output_type": "display_data"
    }
   ],
   "source": [
    "my_bins = range(0,85,5)\n",
    "fig, ax = plt.subplots(figsize=(8,4))\n",
    "#df.loc[df[\"Surived\"]=\"0\"].hist(column=\"Surived\",ax=ax, bins=my_bins, facecolor=\"seagreen\", edgecolor=\"white\") ]\n",
    "dfTitanic.loc[dfTitanic[\"Survived\"]==1].hist(column=\"Age\", label=\"Surived\",density=True,bins=my_bins, alpha=0.5,ax=ax, facecolor=\"coral\", edgecolor=\"white\")\n",
    "dfTitanic.loc[dfTitanic[\"Survived\"]==0].hist(column=\"Age\", label=\"Dead\",density=True,bins=my_bins,alpha=0.5, ax=ax, facecolor=\"seagreen\", edgecolor=\"white\")\n",
    "ax.set_xlabel(\"Passenger age\", fontsize=16)\n",
    "ax.set_ylabel(\"Density\", fontsize=16)\n",
    "ax.legend()"
   ]
  },
  {
   "cell_type": "markdown",
   "metadata": {},
   "source": [
    "Base on the graph above, people age from 15 to 30 have higher chance to surive. People in other age have low chance to survie compare to people from 15 to 30. One reason maybe, people in 15 to 30 are in their \"golden age\", they have betther physical strength, so they have higher chance to surive. Also, one other possible is other people may think people in 15 to 30 could make create more value to society, so they would have higher priority to go to get into lifeboat."
   ]
  },
  {
   "cell_type": "markdown",
   "metadata": {},
   "source": [
    "**Part F:** In Part E, we plotted two *density* histograms, showing the distributions of ages of passengers that survived or did not survive the Titanic disaster. Why would it be misleading for us to have plotted these as *frequency* histograms instead?"
   ]
  },
  {
   "cell_type": "markdown",
   "metadata": {},
   "source": [
    "Because for the fequency histogram, it only shows how many people died and surive, but base on the data, people who dead is way higher than people who surived. Therefore, if we just look frequency histogram, there will be misleading. However, for density histogram, because it shows how many people in that age group to how many people in that age group surived, so, it would be more accurate. "
   ]
  },
  {
   "cell_type": "markdown",
   "metadata": {},
   "source": [
    "**Part G**: Do the data suggest class warfare, male chivalry, or some combination of both characteristics in the final hours aboard the Titanic?  Justify your conclusion based on the computations done above, or do any other analysis that you like, but be sure to clearly justify your conclusion. "
   ]
  },
  {
   "cell_type": "markdown",
   "metadata": {},
   "source": [
    "Base on the data above, the main characteristics is combination of both characteristics, because for all 3 classes, female surive rate is way higher than male surive rate. Also, base on the data in part C, if we comparing male and female surive rate, people stay in higher class always have higher surive rate than people stay in lower class rate. Therefore, the main characteristics is combination of both characteristics."
   ]
  },
  {
   "cell_type": "markdown",
   "metadata": {},
   "source": [
    "[Back to top](#top)\n",
    "\n",
    "<br>\n",
    "\n",
    "<a/ id='p5'></a>\n",
    "\n",
    "### (25 pts) Problem 5 - FCQ Data from Days of Yore\n",
    "---\n",
    "\n",
    "The `fcq_data.csv` data set on Canvas contains about 12 full academic years of Faculty Course Questionnaire (FCQ) data from the University of Colorado Boulder. The data include the year and term (fall or spring), the course subject and number, the distribution of grades, and other such information. The file `fcq_data_info.xlsx` contains some **metadata**, which describes what all of the columns in the main data file are, and how to interpret some of the measurements. Note that some of the columns from the original data set have been removed in order to make the file size a bit more manageable.\n",
    "\n",
    "First, load the data file, and check out what are all of the available column headers."
   ]
  },
  {
   "cell_type": "code",
   "execution_count": 13,
   "metadata": {},
   "outputs": [
    {
     "name": "stdout",
     "output_type": "stream",
     "text": [
      "Index(['YearTerm', 'Subject', 'Course', 'CourseTitle', 'Activity_Type',\n",
      "       'Hours', 'N_EOT', 'N_ENROLL', 'N_GRADE', 'AVG_GRD', 'PCT_A', 'PCT_B',\n",
      "       'PCT_C', 'PCT_D', 'PCT_F', 'PCT_C_MINUS_OR_BELOW', 'PCT_DF', 'PCT_DFW',\n",
      "       'PCT_WDRAW', 'PCT_INCOMP', 'N_PASS', 'N_NOCRED', 'N_INCOMP',\n",
      "       'Workload_Raw', 'Workload_Hrs_Wk', 'AvgCourse', 'AvgInstructor',\n",
      "       'N_Ret'],\n",
      "      dtype='object')\n"
     ]
    },
    {
     "data": {
      "text/html": [
       "<div>\n",
       "<style scoped>\n",
       "    .dataframe tbody tr th:only-of-type {\n",
       "        vertical-align: middle;\n",
       "    }\n",
       "\n",
       "    .dataframe tbody tr th {\n",
       "        vertical-align: top;\n",
       "    }\n",
       "\n",
       "    .dataframe thead th {\n",
       "        text-align: right;\n",
       "    }\n",
       "</style>\n",
       "<table border=\"1\" class=\"dataframe\">\n",
       "  <thead>\n",
       "    <tr style=\"text-align: right;\">\n",
       "      <th></th>\n",
       "      <th>YearTerm</th>\n",
       "      <th>Subject</th>\n",
       "      <th>Course</th>\n",
       "      <th>CourseTitle</th>\n",
       "      <th>Activity_Type</th>\n",
       "      <th>Hours</th>\n",
       "      <th>N_EOT</th>\n",
       "      <th>N_ENROLL</th>\n",
       "      <th>N_GRADE</th>\n",
       "      <th>AVG_GRD</th>\n",
       "      <th>...</th>\n",
       "      <th>PCT_WDRAW</th>\n",
       "      <th>PCT_INCOMP</th>\n",
       "      <th>N_PASS</th>\n",
       "      <th>N_NOCRED</th>\n",
       "      <th>N_INCOMP</th>\n",
       "      <th>Workload_Raw</th>\n",
       "      <th>Workload_Hrs_Wk</th>\n",
       "      <th>AvgCourse</th>\n",
       "      <th>AvgInstructor</th>\n",
       "      <th>N_Ret</th>\n",
       "    </tr>\n",
       "  </thead>\n",
       "  <tbody>\n",
       "    <tr>\n",
       "      <th>0</th>\n",
       "      <td>20067</td>\n",
       "      <td>ARCH</td>\n",
       "      <td>3114</td>\n",
       "      <td>HIST &amp; THEOR OF ARCH 1</td>\n",
       "      <td>LEC - Lecture</td>\n",
       "      <td>3</td>\n",
       "      <td>146</td>\n",
       "      <td>150</td>\n",
       "      <td>145.0</td>\n",
       "      <td>1.98</td>\n",
       "      <td>...</td>\n",
       "      <td>0.0267</td>\n",
       "      <td>0.0068</td>\n",
       "      <td>0</td>\n",
       "      <td>0</td>\n",
       "      <td>1</td>\n",
       "      <td>2.45</td>\n",
       "      <td>4-6</td>\n",
       "      <td>3.03</td>\n",
       "      <td>2.91</td>\n",
       "      <td>78.0</td>\n",
       "    </tr>\n",
       "    <tr>\n",
       "      <th>1</th>\n",
       "      <td>20067</td>\n",
       "      <td>ARCH</td>\n",
       "      <td>3214</td>\n",
       "      <td>HIST &amp; THEOR OF ARCH 2</td>\n",
       "      <td>LEC - Lecture</td>\n",
       "      <td>3</td>\n",
       "      <td>105</td>\n",
       "      <td>109</td>\n",
       "      <td>100.0</td>\n",
       "      <td>3.02</td>\n",
       "      <td>...</td>\n",
       "      <td>0.0367</td>\n",
       "      <td>0.0476</td>\n",
       "      <td>0</td>\n",
       "      <td>0</td>\n",
       "      <td>5</td>\n",
       "      <td>2.40</td>\n",
       "      <td>4-6</td>\n",
       "      <td>4.72</td>\n",
       "      <td>4.76</td>\n",
       "      <td>54.0</td>\n",
       "    </tr>\n",
       "    <tr>\n",
       "      <th>2</th>\n",
       "      <td>20067</td>\n",
       "      <td>ARCH</td>\n",
       "      <td>4010</td>\n",
       "      <td>ARCH APPREC/DESIGN</td>\n",
       "      <td>LEC - Lecture</td>\n",
       "      <td>6</td>\n",
       "      <td>16</td>\n",
       "      <td>16</td>\n",
       "      <td>16.0</td>\n",
       "      <td>3.86</td>\n",
       "      <td>...</td>\n",
       "      <td>0.0000</td>\n",
       "      <td>0.0000</td>\n",
       "      <td>0</td>\n",
       "      <td>0</td>\n",
       "      <td>0</td>\n",
       "      <td>4.38</td>\n",
       "      <td>10-12</td>\n",
       "      <td>4.54</td>\n",
       "      <td>4.62</td>\n",
       "      <td>13.0</td>\n",
       "    </tr>\n",
       "    <tr>\n",
       "      <th>3</th>\n",
       "      <td>20067</td>\n",
       "      <td>ARCH</td>\n",
       "      <td>4010</td>\n",
       "      <td>ARCH APPREC/DESIGN</td>\n",
       "      <td>LEC - Lecture</td>\n",
       "      <td>6</td>\n",
       "      <td>14</td>\n",
       "      <td>14</td>\n",
       "      <td>14.0</td>\n",
       "      <td>3.74</td>\n",
       "      <td>...</td>\n",
       "      <td>0.0000</td>\n",
       "      <td>0.0000</td>\n",
       "      <td>0</td>\n",
       "      <td>0</td>\n",
       "      <td>0</td>\n",
       "      <td>4.11</td>\n",
       "      <td>10-12</td>\n",
       "      <td>3.78</td>\n",
       "      <td>4.00</td>\n",
       "      <td>9.0</td>\n",
       "    </tr>\n",
       "    <tr>\n",
       "      <th>4</th>\n",
       "      <td>20067</td>\n",
       "      <td>ARCH</td>\n",
       "      <td>4010</td>\n",
       "      <td>ARCH APPREC/DESIGN</td>\n",
       "      <td>LEC - Lecture</td>\n",
       "      <td>6</td>\n",
       "      <td>14</td>\n",
       "      <td>14</td>\n",
       "      <td>14.0</td>\n",
       "      <td>3.89</td>\n",
       "      <td>...</td>\n",
       "      <td>0.0000</td>\n",
       "      <td>0.0000</td>\n",
       "      <td>0</td>\n",
       "      <td>0</td>\n",
       "      <td>0</td>\n",
       "      <td>4.57</td>\n",
       "      <td>13-15</td>\n",
       "      <td>4.57</td>\n",
       "      <td>4.43</td>\n",
       "      <td>14.0</td>\n",
       "    </tr>\n",
       "  </tbody>\n",
       "</table>\n",
       "<p>5 rows × 28 columns</p>\n",
       "</div>"
      ],
      "text/plain": [
       "   YearTerm Subject  Course             CourseTitle  Activity_Type  Hours  \\\n",
       "0     20067    ARCH    3114  HIST & THEOR OF ARCH 1  LEC - Lecture      3   \n",
       "1     20067    ARCH    3214  HIST & THEOR OF ARCH 2  LEC - Lecture      3   \n",
       "2     20067    ARCH    4010      ARCH APPREC/DESIGN  LEC - Lecture      6   \n",
       "3     20067    ARCH    4010      ARCH APPREC/DESIGN  LEC - Lecture      6   \n",
       "4     20067    ARCH    4010      ARCH APPREC/DESIGN  LEC - Lecture      6   \n",
       "\n",
       "   N_EOT  N_ENROLL  N_GRADE  AVG_GRD  ...    PCT_WDRAW  PCT_INCOMP  N_PASS  \\\n",
       "0    146       150    145.0     1.98  ...       0.0267      0.0068       0   \n",
       "1    105       109    100.0     3.02  ...       0.0367      0.0476       0   \n",
       "2     16        16     16.0     3.86  ...       0.0000      0.0000       0   \n",
       "3     14        14     14.0     3.74  ...       0.0000      0.0000       0   \n",
       "4     14        14     14.0     3.89  ...       0.0000      0.0000       0   \n",
       "\n",
       "   N_NOCRED  N_INCOMP  Workload_Raw  Workload_Hrs_Wk  AvgCourse  \\\n",
       "0         0         1          2.45              4-6       3.03   \n",
       "1         0         5          2.40              4-6       4.72   \n",
       "2         0         0          4.38            10-12       4.54   \n",
       "3         0         0          4.11            10-12       3.78   \n",
       "4         0         0          4.57            13-15       4.57   \n",
       "\n",
       "   AvgInstructor  N_Ret  \n",
       "0           2.91   78.0  \n",
       "1           4.76   54.0  \n",
       "2           4.62   13.0  \n",
       "3           4.00    9.0  \n",
       "4           4.43   14.0  \n",
       "\n",
       "[5 rows x 28 columns]"
      ]
     },
     "execution_count": 13,
     "metadata": {},
     "output_type": "execute_result"
    }
   ],
   "source": [
    "df = pd.read_csv(\"fcq_data.csv\")\n",
    "print(df.columns)\n",
    "df.head()"
   ]
  },
  {
   "cell_type": "markdown",
   "metadata": {},
   "source": [
    "**Part A:** Suppose we want to restrict our attention to only undergraduate classes in the Computer Science department. Create a new DataFrame called `dfC` consisting only of undergraduate computer science classes. You may decide for yourself how to obtain only the rows corresponding to **undergraduate** and **computer science** courses. How many data points are there total?"
   ]
  },
  {
   "cell_type": "code",
   "execution_count": 14,
   "metadata": {},
   "outputs": [
    {
     "name": "stdout",
     "output_type": "stream",
     "text": [
      "There are  617 undergraduate computer science courses\n"
     ]
    }
   ],
   "source": [
    "dfC=df.loc[(df[\"Subject\"]==\"CSCI\")& (df[\"Course\"]<5000) ]\n",
    "print(\"There are \",len(dfC),\"undergraduate computer science courses\")"
   ]
  },
  {
   "cell_type": "markdown",
   "metadata": {},
   "source": [
    "**Part B:** Using the undergraduate computer science courses DataFrame and the `isnull()` and/or `notnull()` (or `isna`/`notna`) methods in Pandas, determine which column(s) in are missing any data. Also using Pandas methods, report how many values are missing from each of those column(s). Finally, use the `dropna()` method to remove any rows that are missing data. For the remainder of this problem, use the cleaned DataFrame for analysis. How many data points are there in the cleaned DataFrame?"
   ]
  },
  {
   "cell_type": "code",
   "execution_count": 15,
   "metadata": {},
   "outputs": [
    {
     "data": {
      "text/plain": [
       "YearTerm                 0\n",
       "Subject                  0\n",
       "Course                   0\n",
       "CourseTitle              0\n",
       "Activity_Type            0\n",
       "Hours                    0\n",
       "N_EOT                    0\n",
       "N_ENROLL                 0\n",
       "N_GRADE                  0\n",
       "AVG_GRD                  0\n",
       "PCT_A                    0\n",
       "PCT_B                    0\n",
       "PCT_C                    0\n",
       "PCT_D                    0\n",
       "PCT_F                    0\n",
       "PCT_C_MINUS_OR_BELOW     0\n",
       "PCT_DF                   0\n",
       "PCT_DFW                  0\n",
       "PCT_WDRAW                0\n",
       "PCT_INCOMP               0\n",
       "N_PASS                   0\n",
       "N_NOCRED                 0\n",
       "N_INCOMP                 0\n",
       "Workload_Raw            27\n",
       "Workload_Hrs_Wk         27\n",
       "AvgCourse               27\n",
       "AvgInstructor           27\n",
       "N_Ret                   23\n",
       "dtype: int64"
      ]
     },
     "execution_count": 15,
     "metadata": {},
     "output_type": "execute_result"
    }
   ],
   "source": [
    "dfC.isnull().sum()"
   ]
  },
  {
   "cell_type": "code",
   "execution_count": 16,
   "metadata": {},
   "outputs": [
    {
     "name": "stdout",
     "output_type": "stream",
     "text": [
      "There are  590  data points in the cleaned DataFrame.\n"
     ]
    }
   ],
   "source": [
    "dfC=dfC.dropna()\n",
    "print(\"There are \",len(dfC),\" data points in the cleaned DataFrame.\")"
   ]
  },
  {
   "cell_type": "markdown",
   "metadata": {},
   "source": [
    "**Part C:** One might hypothesize that students' grades are higher in one credit-hour courses than in regular lecture sections. Note that `Hours` corresponds to the number of credit-hours a class is worth, and that Average Grades are provided in the data set on a GPA-scale (4=A, 3=B, and so on).\n",
    "\n",
    "Compute the mean and median Average Grade for all undergraduate Computer Science courses, and for only the one credit-hour undergraduate Computer Science courses. Report all four of these numbers, and comment on the results. Does your calculation seem to support our hypothesis or not? "
   ]
  },
  {
   "cell_type": "code",
   "execution_count": 17,
   "metadata": {},
   "outputs": [
    {
     "name": "stdout",
     "output_type": "stream",
     "text": [
      "The mean grade for all undergraduate computer science is  3.2308474576271204\n",
      "The median grade for all undergradutae computer science is 3.26\n",
      "The mean grade for all one credit hour undergraduate computer science is  3.532608695652174\n",
      "The median grade for all one credit hour undergraduate computer science is 3.52\n"
     ]
    }
   ],
   "source": [
    "allCSMean=dfC.loc[((df['Subject'] == 'CSCI')& (df[\"Course\"]<5000)),\"AVG_GRD\"].mean()\n",
    "allCSMedian=dfC.loc[((df['Subject'] == 'CSCI')& (df[\"Course\"]<5000)),\"AVG_GRD\"].median()\n",
    "print(\"The mean grade for all undergraduate computer science is \",allCSMean)\n",
    "print(\"The median grade for all undergradutae computer science is\",allCSMedian)\n",
    "\n",
    "oneCreditMean=dfC.loc[((df['Subject'] == 'CSCI')& (df[\"Course\"]<5000) &(df[\"Hours\"]==1)),\"AVG_GRD\"].mean()\n",
    "oneCreditMedian=dfC.loc[((df['Subject'] == 'CSCI')& (df[\"Course\"]<5000) &(df[\"Hours\"]==1)),\"AVG_GRD\"].median()\n",
    "print(\"The mean grade for all one credit hour undergraduate computer science is \",oneCreditMean)\n",
    "print(\"The median grade for all one credit hour undergraduate computer science is\",oneCreditMedian)\n",
    "\n",
    "\n",
    "\n"
   ]
  },
  {
   "cell_type": "markdown",
   "metadata": {},
   "source": [
    "Base on the data above, the calculation does support our hypothesis that students' grades are higher in one credit-hour courses than in regular lecture sections "
   ]
  },
  {
   "cell_type": "markdown",
   "metadata": {},
   "source": [
    "**Part D:** Another hypothesis one might want to test using this data set is whether or not students' grades are different based on the course *level* - lower-division (1000s and 2000s) versus upper-division (3000s and 4000s). Create side-by-side box-and-whisker plots to compare the average grades of lower-division computer science courses versus upper-division computer science courses.  Use the box-and-whisker plot conventions discussed in lecture, and be sure to include a legend and label your axes.\n",
    "\n",
    "Comment on the results. Does your figure suggest there is a difference in the distribution of average course grades, depending on whether a class is lower- or upper-division? If you noticed a difference between the two distributions, what is one cause that could explain this difference? Fully explain your reasoning."
   ]
  },
  {
   "cell_type": "code",
   "execution_count": 18,
   "metadata": {},
   "outputs": [
    {
     "data": {
      "image/png": "[encoded data removed]",
      "text/plain": [
       "<Figure size 432x432 with 1 Axes>"
      ]
     },
     "metadata": {
      "needs_background": "light"
     },
     "output_type": "display_data"
    }
   ],
   "source": [
    "fig=plt.figure(figsize=(6,6))\n",
    "ax=fig.add_subplot(111)\n",
    "#ax=fig.add_subplot()\n",
    "#dfC.loc[((dfC[\"Subject\"]==\"CSCI\")& (dfC[\"Course\"]<3000))&(dfC[\"Subject\"]==\"CSCI\")& ((dfC[\"Course\"]>3000)&dfC[\"Course\"]<5000)].boxplot(column=\"AVG_GRD\",ax=ax\n",
    "#        ,by=\"Subject\",return_type=\"dict\")\n",
    "#dfCLower=pd.DataFrame({\"Lower Level\": dfC.loc[dfC[\"Course\"]<3000]})\n",
    "dfCLower=dfC.loc[dfC[\"Course\"]<3000]\n",
    "dfCUpper=dfC.loc[(dfC[\"Course\"]>=3000)&(dfC[\"Course\"]<5000)]\n",
    "#dfCUpper=pd.DataFrame({\"Upper Level\": dfC.loc[(dfC[\"Course\"]>=3000)&(dfC[\"Course\"]<5000)][\"AVG_GRD\"]})\n",
    "dfCLower.boxplot(column=\"AVG_GRD\",positions=[1.5])\n",
    "dfCUpper.boxplot(column=\"AVG_GRD\",positions=[1.8])\n",
    "plt.xticks([1.5,1.8],[\"Lower Level\", \"Upper level\"], rotation=0, fontsize=16)\n",
    "ax.set_title('Lower Levlel Grade VS Upper Level Grade', fontsize=16)\n",
    "ax.set_ylabel(\"Average Grade\", fontsize=16)\n",
    "ax.grid(alpha=0.25)\n",
    "\n",
    "#ax.boxplot((dfCLower,dfCUpper))                                                                                                                                                                      \n",
    "#boxplot=dfCLower.boxplot(ax=ax)\n",
    "\n"
   ]
  },
  {
   "cell_type": "markdown",
   "metadata": {},
   "source": [
    "Base on the graph above, the course level do effect the average grade. People who study lower level CS course tend to have lower grader than people who study higher CS course. One reason might be, people study lower level CS courses are mostly not CS major, so they spend less time on it. And people in higher CS courses are CS major, so they pay more attention on it."
   ]
  },
  {
   "cell_type": "markdown",
   "metadata": {},
   "source": [
    "**Part E:** One more hypothesis we might want to explore is whether or not there has actually been a large increase in Computer Science enrollments in recent years. There are 12 academic years of data, which means there are 24 distinct semesters (from Fall 2006 to Spring 2018). For each semester, compute the total number of students enrolled in Computer Science courses. Note that you will almost certainly be counting some students twice (or more!), but that's okay - this is still a good measure of the total demand for Computer Science classes. Use the total number of students enrolled at the end of the term as the number of students for each class.\n",
    "\n",
    "Make a plot of the total number of Computer Science students versus the semester, with the most recent semester (Spring 2018) on the right and most distant past (Fall 2006) on the left. Label your axes. For the semester axis (the x-axis), label with the actual semester as a character string, like \"Fall 2006\" or \"Spring 2007\", for example. You may want to look up how to rotate the x-tick labels in order to make the semester name labels fit nicely. Comment on the results and any interesting trends or patterns you notice in Computer Science enrollment numbers."
   ]
  },
  {
   "cell_type": "code",
   "execution_count": 19,
   "metadata": {},
   "outputs": [
    {
     "name": "stdout",
     "output_type": "stream",
     "text": [
      "[794, 681, 883, 767, 1029, 853, 1100, 889, 1088, 856, 1232, 1170, 1426, 1369, 1796, 1586, 2291, 2142, 3105, 2788, 3317, 3205, 4043, 3913]\n"
     ]
    },
    {
     "data": {
      "text/plain": [
       "'fig, ax = plt.subplots(figsize=(8,4))\\ndfTitanic.hist(column=\"Age\", ax=ax, bins=my_bins, facecolor=\"coral\", edgecolor=\"white\")\\nax.set_xlabel(\"Years\", fontsize=16)\\nax.set_ylabel(\"Studnets Number\", fontsize=16)'"
      ]
     },
     "execution_count": 19,
     "metadata": {},
     "output_type": "execute_result"
    },
    {
     "data": {
      "image/png": "[encoded data removed]",
      "text/plain": [
       "<Figure size 576x432 with 1 Axes>"
      ]
     },
     "metadata": {
      "needs_background": "light"
     },
     "output_type": "display_data"
    }
   ],
   "source": [
    "fig, ax = plt.subplots(figsize=(8,6))\n",
    "#my_bins=[2006,2018,1]\n",
    "year=set(dfC[\"YearTerm\"])\n",
    "year=dfC.YearTerm.unique()\n",
    "#students=dfC[\"N_ENROLL\"]\n",
    "stdEachYear=[]\n",
    "\n",
    "for i in year:\n",
    "    #tempSemester=i%10\n",
    "    #tempYear=int(str(i)[:4])\n",
    "    stdEachYear.append(dfC.loc[dfC[\"YearTerm\"]==i,\"N_EOT\"].sum())\n",
    "    #print(dfC.loc[dfC[\"YearTerm\"]==i][\"N_ENROLL\"].sum())\n",
    "print(stdEachYear)\n",
    "ax.set_xlabel(\"Years\", fontsize=16)\n",
    "ax.set_ylabel(\"Studnets Number\", fontsize=16)\n",
    "label=[\"Fall 2006\",\"Spring 2007\",\"Fall 2007\",\"Spring 2008\",\"Fall 2008\",\n",
    "       \"Spring 2009\",\"Fall 2009\",\"Spring 2010\",\"Fall 2010\",\"Spring 2011\",\n",
    "       \"Fall 2011\",\"Spring 2012\",\"Fall 2012\",\"Spring 2013\",\"Fall 2013\",\n",
    "       \"Spring 2014\",\"Fall 2014\",\"Spring 2015\",\"Fall 2015\",\n",
    "       \"Spring 2016\",\"Fall 2016\",\"Spring 2017\",\"Fall 2017\",\n",
    "       \"Spring 2018\"]\n",
    "#print(len(stdEachYear))\n",
    "\n",
    "ax.plot(stdEachYear,\"-o\")\n",
    "ax.set_xticks(range(0,24))\n",
    "ax.set_xticklabels(label,rotation=90)\n",
    "\n",
    "'''fig, ax = plt.subplots(figsize=(8,4))\n",
    "dfTitanic.hist(column=\"Age\", ax=ax, bins=my_bins, facecolor=\"coral\", edgecolor=\"white\")\n",
    "ax.set_xlabel(\"Years\", fontsize=16)\n",
    "ax.set_ylabel(\"Studnets Number\", fontsize=16)'''\n"
   ]
  },
  {
   "cell_type": "markdown",
   "metadata": {},
   "source": [
    "Base on the graph above, the number of overall computer science is increasing.Aso, after 2013, the increasing speed is faster than 2006-2013."
   ]
  },
  {
   "cell_type": "markdown",
   "metadata": {},
   "source": [
    "**Part F:** What is one way we could determine whether or not the Computer Science total enrollment is going up more than we should expect?"
   ]
  },
  {
   "cell_type": "markdown",
   "metadata": {},
   "source": [
    "We could check the number of students in waitlist, if the waitlist is very low, it means we Computer Science total enrollment meet the expection."
   ]
  },
  {
   "cell_type": "markdown",
   "metadata": {},
   "source": [
    "**Part G:** Formulate another interesting question you could potentially answer using this data set. You do not need to actually answer it, but just frame the question clearly. What are some of the relevant column(s) in the data set?"
   ]
  },
  {
   "cell_type": "markdown",
   "metadata": {},
   "source": [
    "One hypnothesis is students tend to spend more hours in higher level CSCI courses than in lower level CSCI courses. For this hypothesis, you need to check the \"Subejct\" to check if it is  CSCI courses, and \"Courses\" column to determine upper or lower level, also \"Workload_Hrs_Wk\" for how many hours students spend everyweek"
   ]
  },
  {
   "cell_type": "markdown",
   "metadata": {},
   "source": [
    "[Back to top](#top)"
   ]
  },
  {
   "cell_type": "code",
   "execution_count": null,
   "metadata": {},
   "outputs": [],
   "source": []
  }
 ],
 "metadata": {
  "kernelspec": {
   "display_name": "Python 3",
   "language": "python",
   "name": "python3"
  },
  "language_info": {
   "codemirror_mode": {
    "name": "ipython",
    "version": 3
   },
   "file_extension": ".py",
   "mimetype": "text/x-python",
   "name": "python",
   "nbconvert_exporter": "python",
   "pygments_lexer": "ipython3",
   "version": "3.7.1"
  }
 },
 "nbformat": 4,
 "nbformat_minor": 2
}
